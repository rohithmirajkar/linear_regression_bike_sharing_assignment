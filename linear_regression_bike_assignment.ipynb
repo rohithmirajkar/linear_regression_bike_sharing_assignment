{
 "cells": [
  {
   "cell_type": "markdown",
   "id": "2ec2afaf",
   "metadata": {},
   "source": [
    "## Steps\n",
    "- read and visualise the data\n",
    "- prepare the data for modeling\n",
    "- train the model\n",
    "- Residual analysis\n",
    "- prediction and evaluation on the test data"
   ]
  },
  {
   "cell_type": "markdown",
   "id": "6b45cf07",
   "metadata": {},
   "source": [
    "### Importing and Understanding Data"
   ]
  },
  {
   "cell_type": "code",
   "execution_count": 139,
   "id": "be60c954",
   "metadata": {},
   "outputs": [],
   "source": [
    "# Supress Warnings\n",
    "\n",
    "import warnings\n",
    "warnings.filterwarnings('ignore')"
   ]
  },
  {
   "cell_type": "code",
   "execution_count": 140,
   "id": "4d58841c",
   "metadata": {},
   "outputs": [],
   "source": [
    "#Import necessary libararies\n",
    "\n",
    "import numpy as np\n",
    "import pandas as pd\n",
    "import matplotlib.pyplot as plt\n",
    "import seaborn as sns\n",
    "\n",
    "from sklearn.model_selection import train_test_split\n",
    "from sklearn.preprocessing import MinMaxScaler\n",
    "from sklearn.feature_selection import RFE\n",
    "from sklearn.linear_model import LinearRegression\n",
    "from statsmodels.stats.outliers_influence import variance_inflation_factor\n",
    "import statsmodels.api as sm\n",
    "from sklearn.metrics import r2_score"
   ]
  },
  {
   "cell_type": "code",
   "execution_count": 141,
   "id": "26423ddf",
   "metadata": {},
   "outputs": [],
   "source": [
    "# Importing day.csv\n",
    "bike_df = pd.read_csv('day.csv')"
   ]
  },
  {
   "cell_type": "code",
   "execution_count": 142,
   "id": "eeb1a25e",
   "metadata": {},
   "outputs": [
    {
     "data": {
      "text/html": [
       "<div>\n",
       "<style scoped>\n",
       "    .dataframe tbody tr th:only-of-type {\n",
       "        vertical-align: middle;\n",
       "    }\n",
       "\n",
       "    .dataframe tbody tr th {\n",
       "        vertical-align: top;\n",
       "    }\n",
       "\n",
       "    .dataframe thead th {\n",
       "        text-align: right;\n",
       "    }\n",
       "</style>\n",
       "<table border=\"1\" class=\"dataframe\">\n",
       "  <thead>\n",
       "    <tr style=\"text-align: right;\">\n",
       "      <th></th>\n",
       "      <th>instant</th>\n",
       "      <th>dteday</th>\n",
       "      <th>season</th>\n",
       "      <th>yr</th>\n",
       "      <th>mnth</th>\n",
       "      <th>holiday</th>\n",
       "      <th>weekday</th>\n",
       "      <th>workingday</th>\n",
       "      <th>weathersit</th>\n",
       "      <th>temp</th>\n",
       "      <th>atemp</th>\n",
       "      <th>hum</th>\n",
       "      <th>windspeed</th>\n",
       "      <th>casual</th>\n",
       "      <th>registered</th>\n",
       "      <th>cnt</th>\n",
       "    </tr>\n",
       "  </thead>\n",
       "  <tbody>\n",
       "    <tr>\n",
       "      <th>0</th>\n",
       "      <td>1</td>\n",
       "      <td>01-01-2018</td>\n",
       "      <td>1</td>\n",
       "      <td>0</td>\n",
       "      <td>1</td>\n",
       "      <td>0</td>\n",
       "      <td>6</td>\n",
       "      <td>0</td>\n",
       "      <td>2</td>\n",
       "      <td>14.110847</td>\n",
       "      <td>18.18125</td>\n",
       "      <td>80.5833</td>\n",
       "      <td>10.749882</td>\n",
       "      <td>331</td>\n",
       "      <td>654</td>\n",
       "      <td>985</td>\n",
       "    </tr>\n",
       "    <tr>\n",
       "      <th>1</th>\n",
       "      <td>2</td>\n",
       "      <td>02-01-2018</td>\n",
       "      <td>1</td>\n",
       "      <td>0</td>\n",
       "      <td>1</td>\n",
       "      <td>0</td>\n",
       "      <td>0</td>\n",
       "      <td>0</td>\n",
       "      <td>2</td>\n",
       "      <td>14.902598</td>\n",
       "      <td>17.68695</td>\n",
       "      <td>69.6087</td>\n",
       "      <td>16.652113</td>\n",
       "      <td>131</td>\n",
       "      <td>670</td>\n",
       "      <td>801</td>\n",
       "    </tr>\n",
       "    <tr>\n",
       "      <th>2</th>\n",
       "      <td>3</td>\n",
       "      <td>03-01-2018</td>\n",
       "      <td>1</td>\n",
       "      <td>0</td>\n",
       "      <td>1</td>\n",
       "      <td>0</td>\n",
       "      <td>1</td>\n",
       "      <td>1</td>\n",
       "      <td>1</td>\n",
       "      <td>8.050924</td>\n",
       "      <td>9.47025</td>\n",
       "      <td>43.7273</td>\n",
       "      <td>16.636703</td>\n",
       "      <td>120</td>\n",
       "      <td>1229</td>\n",
       "      <td>1349</td>\n",
       "    </tr>\n",
       "    <tr>\n",
       "      <th>3</th>\n",
       "      <td>4</td>\n",
       "      <td>04-01-2018</td>\n",
       "      <td>1</td>\n",
       "      <td>0</td>\n",
       "      <td>1</td>\n",
       "      <td>0</td>\n",
       "      <td>2</td>\n",
       "      <td>1</td>\n",
       "      <td>1</td>\n",
       "      <td>8.200000</td>\n",
       "      <td>10.60610</td>\n",
       "      <td>59.0435</td>\n",
       "      <td>10.739832</td>\n",
       "      <td>108</td>\n",
       "      <td>1454</td>\n",
       "      <td>1562</td>\n",
       "    </tr>\n",
       "    <tr>\n",
       "      <th>4</th>\n",
       "      <td>5</td>\n",
       "      <td>05-01-2018</td>\n",
       "      <td>1</td>\n",
       "      <td>0</td>\n",
       "      <td>1</td>\n",
       "      <td>0</td>\n",
       "      <td>3</td>\n",
       "      <td>1</td>\n",
       "      <td>1</td>\n",
       "      <td>9.305237</td>\n",
       "      <td>11.46350</td>\n",
       "      <td>43.6957</td>\n",
       "      <td>12.522300</td>\n",
       "      <td>82</td>\n",
       "      <td>1518</td>\n",
       "      <td>1600</td>\n",
       "    </tr>\n",
       "  </tbody>\n",
       "</table>\n",
       "</div>"
      ],
      "text/plain": [
       "   instant      dteday  season  yr  mnth  holiday  weekday  workingday  \\\n",
       "0        1  01-01-2018       1   0     1        0        6           0   \n",
       "1        2  02-01-2018       1   0     1        0        0           0   \n",
       "2        3  03-01-2018       1   0     1        0        1           1   \n",
       "3        4  04-01-2018       1   0     1        0        2           1   \n",
       "4        5  05-01-2018       1   0     1        0        3           1   \n",
       "\n",
       "   weathersit       temp     atemp      hum  windspeed  casual  registered  \\\n",
       "0           2  14.110847  18.18125  80.5833  10.749882     331         654   \n",
       "1           2  14.902598  17.68695  69.6087  16.652113     131         670   \n",
       "2           1   8.050924   9.47025  43.7273  16.636703     120        1229   \n",
       "3           1   8.200000  10.60610  59.0435  10.739832     108        1454   \n",
       "4           1   9.305237  11.46350  43.6957  12.522300      82        1518   \n",
       "\n",
       "    cnt  \n",
       "0   985  \n",
       "1   801  \n",
       "2  1349  \n",
       "3  1562  \n",
       "4  1600  "
      ]
     },
     "execution_count": 142,
     "metadata": {},
     "output_type": "execute_result"
    }
   ],
   "source": [
    "bike_df.head()"
   ]
  },
  {
   "cell_type": "code",
   "execution_count": 143,
   "id": "14c76940",
   "metadata": {},
   "outputs": [
    {
     "data": {
      "text/plain": [
       "(730, 16)"
      ]
     },
     "execution_count": 143,
     "metadata": {},
     "output_type": "execute_result"
    }
   ],
   "source": [
    "bike_df.shape"
   ]
  },
  {
   "cell_type": "code",
   "execution_count": 144,
   "id": "a540440f",
   "metadata": {},
   "outputs": [
    {
     "name": "stdout",
     "output_type": "stream",
     "text": [
      "<class 'pandas.core.frame.DataFrame'>\n",
      "RangeIndex: 730 entries, 0 to 729\n",
      "Data columns (total 16 columns):\n",
      " #   Column      Non-Null Count  Dtype  \n",
      "---  ------      --------------  -----  \n",
      " 0   instant     730 non-null    int64  \n",
      " 1   dteday      730 non-null    object \n",
      " 2   season      730 non-null    int64  \n",
      " 3   yr          730 non-null    int64  \n",
      " 4   mnth        730 non-null    int64  \n",
      " 5   holiday     730 non-null    int64  \n",
      " 6   weekday     730 non-null    int64  \n",
      " 7   workingday  730 non-null    int64  \n",
      " 8   weathersit  730 non-null    int64  \n",
      " 9   temp        730 non-null    float64\n",
      " 10  atemp       730 non-null    float64\n",
      " 11  hum         730 non-null    float64\n",
      " 12  windspeed   730 non-null    float64\n",
      " 13  casual      730 non-null    int64  \n",
      " 14  registered  730 non-null    int64  \n",
      " 15  cnt         730 non-null    int64  \n",
      "dtypes: float64(4), int64(11), object(1)\n",
      "memory usage: 91.4+ KB\n"
     ]
    }
   ],
   "source": [
    "bike_df.info()"
   ]
  },
  {
   "cell_type": "markdown",
   "id": "db63b13b",
   "metadata": {},
   "source": [
    "###  Visualising the Data"
   ]
  },
  {
   "cell_type": "markdown",
   "id": "6eb9b9c2",
   "metadata": {},
   "source": [
    "#### Analysing the categorical columns "
   ]
  },
  {
   "cell_type": "code",
   "execution_count": 145,
   "id": "ec33207d",
   "metadata": {},
   "outputs": [
    {
     "data": {
      "image/png": "[encoded data removed]",
      "text/plain": [
       "<Figure size 1440x864 with 7 Axes>"
      ]
     },
     "metadata": {
      "needs_background": "light"
     },
     "output_type": "display_data"
    }
   ],
   "source": [
    "plt.figure(figsize=(20, 12))\n",
    "plt.subplot(2,4,1)\n",
    "sns.boxplot(x = 'season', y = 'cnt', data = bike_df)\n",
    "plt.subplot(2,4,2)\n",
    "sns.boxplot(x = 'mnth', y = 'cnt', data = bike_df)\n",
    "plt.subplot(2,4,3)\n",
    "sns.boxplot(x = 'weekday', y = 'cnt', data = bike_df)\n",
    "plt.subplot(2,4,4)\n",
    "sns.boxplot(x = 'weathersit', y = 'cnt', data = bike_df)\n",
    "plt.subplot(2,4,5)\n",
    "sns.boxplot(x = 'holiday', y = 'cnt', data = bike_df)\n",
    "plt.subplot(2,4,6)\n",
    "sns.boxplot(x = 'workingday', y = 'cnt', data = bike_df)\n",
    "plt.subplot(2,4,7)\n",
    "sns.boxplot(x = 'yr', y = 'cnt', data = bike_df)\n",
    "plt.show()"
   ]
  },
  {
   "cell_type": "markdown",
   "id": "b6be019b",
   "metadata": {},
   "source": [
    "function to create barplot for categorical columns"
   ]
  },
  {
   "cell_type": "code",
   "execution_count": 146,
   "id": "d4ac6239",
   "metadata": {},
   "outputs": [],
   "source": [
    "def plot_cat_columns(column):\n",
    "    plt.figure(figsize = (12,6))\n",
    "    plt.subplot(1,2,1)\n",
    "    sns.barplot(column,'cnt',data=bike_df)\n",
    "    plt.subplot(1,2,2)\n",
    "    sns.barplot(column,'cnt',data=bike_df, hue='yr',palette='Set1')\n",
    "    plt.legend(labels=['2018', '2019'])\n",
    "    plt.show()"
   ]
  },
  {
   "cell_type": "markdown",
   "id": "d1ebcd8c",
   "metadata": {},
   "source": [
    "visualising season"
   ]
  },
  {
   "cell_type": "code",
   "execution_count": 147,
   "id": "ed107eed",
   "metadata": {},
   "outputs": [
    {
     "data": {
      "image/png": "[encoded data removed]",
      "text/plain": [
       "<Figure size 864x432 with 2 Axes>"
      ]
     },
     "metadata": {
      "needs_background": "light"
     },
     "output_type": "display_data"
    }
   ],
   "source": [
    "plot_cat_columns('season')"
   ]
  },
  {
   "cell_type": "markdown",
   "id": "95995bc2",
   "metadata": {},
   "source": [
    "- Bookings are more during fall season. \n",
    "- Bookings are increasing year on year"
   ]
  },
  {
   "cell_type": "markdown",
   "id": "91fb3da1",
   "metadata": {},
   "source": [
    "visualising month"
   ]
  },
  {
   "cell_type": "code",
   "execution_count": 148,
   "id": "f2235636",
   "metadata": {},
   "outputs": [
    {
     "data": {
      "image/png": "[encoded data removed]",
      "text/plain": [
       "<Figure size 864x432 with 2 Axes>"
      ]
     },
     "metadata": {
      "needs_background": "light"
     },
     "output_type": "display_data"
    }
   ],
   "source": [
    "plot_cat_columns('mnth')"
   ]
  },
  {
   "cell_type": "markdown",
   "id": "cfa64891",
   "metadata": {},
   "source": [
    "Bookings are more during the months of may, june, july, aug, sep and oct. Overall booking for each month have increased from 2018 to 2019."
   ]
  },
  {
   "cell_type": "markdown",
   "id": "cbae7d59",
   "metadata": {},
   "source": [
    "Visualising weathersit"
   ]
  },
  {
   "cell_type": "code",
   "execution_count": 149,
   "id": "9604e0e6",
   "metadata": {},
   "outputs": [
    {
     "data": {
      "image/png": "[encoded data removed]",
      "text/plain": [
       "<Figure size 864x432 with 2 Axes>"
      ]
     },
     "metadata": {
      "needs_background": "light"
     },
     "output_type": "display_data"
    }
   ],
   "source": [
    "plot_cat_columns('weathersit')"
   ]
  },
  {
   "cell_type": "markdown",
   "id": "2ac45167",
   "metadata": {},
   "source": [
    "Bookings are more during clear weathersit."
   ]
  },
  {
   "cell_type": "markdown",
   "id": "29ede792",
   "metadata": {},
   "source": [
    "Visualising weekday"
   ]
  },
  {
   "cell_type": "code",
   "execution_count": 150,
   "id": "0885a5a2",
   "metadata": {},
   "outputs": [
    {
     "data": {
      "image/png": "[encoded data removed]",
      "text/plain": [
       "<Figure size 864x432 with 2 Axes>"
      ]
     },
     "metadata": {
      "needs_background": "light"
     },
     "output_type": "display_data"
    }
   ],
   "source": [
    "plot_cat_columns('weekday')"
   ]
  },
  {
   "cell_type": "markdown",
   "id": "a282d4a9",
   "metadata": {},
   "source": [
    "No much difference wrt booking during the days of the week. "
   ]
  },
  {
   "cell_type": "markdown",
   "id": "26162813",
   "metadata": {},
   "source": [
    "Visualising holiday"
   ]
  },
  {
   "cell_type": "code",
   "execution_count": 151,
   "id": "711f7386",
   "metadata": {},
   "outputs": [
    {
     "data": {
      "image/png": "[encoded data removed]",
      "text/plain": [
       "<Figure size 864x432 with 2 Axes>"
      ]
     },
     "metadata": {
      "needs_background": "light"
     },
     "output_type": "display_data"
    }
   ],
   "source": [
    "plot_cat_columns('holiday')"
   ]
  },
  {
   "cell_type": "markdown",
   "id": "915245a0",
   "metadata": {},
   "source": [
    "Bookings are less during holidays"
   ]
  },
  {
   "cell_type": "markdown",
   "id": "36a44e17",
   "metadata": {},
   "source": [
    "Visualising workingday"
   ]
  },
  {
   "cell_type": "code",
   "execution_count": 152,
   "id": "0bee2a2f",
   "metadata": {},
   "outputs": [
    {
     "data": {
      "image/png": "[encoded data removed]",
      "text/plain": [
       "<Figure size 864x432 with 2 Axes>"
      ]
     },
     "metadata": {
      "needs_background": "light"
     },
     "output_type": "display_data"
    }
   ],
   "source": [
    "plot_cat_columns('workingday')"
   ]
  },
  {
   "cell_type": "markdown",
   "id": "6b484c5e",
   "metadata": {},
   "source": [
    "Bookings are almost same "
   ]
  },
  {
   "cell_type": "markdown",
   "id": "d4c392b8",
   "metadata": {},
   "source": [
    "Visualising year"
   ]
  },
  {
   "cell_type": "code",
   "execution_count": 153,
   "id": "d6d7f703",
   "metadata": {},
   "outputs": [
    {
     "data": {
      "image/png": "[encoded data removed]",
      "text/plain": [
       "<Figure size 864x432 with 2 Axes>"
      ]
     },
     "metadata": {
      "needs_background": "light"
     },
     "output_type": "display_data"
    }
   ],
   "source": [
    "plot_cat_columns('yr')"
   ]
  },
  {
   "cell_type": "markdown",
   "id": "da10c329",
   "metadata": {},
   "source": [
    "Overall Bookings are more in 2019"
   ]
  },
  {
   "cell_type": "markdown",
   "id": "d6d717d2",
   "metadata": {},
   "source": [
    "#### Analysing the numerical columns "
   ]
  },
  {
   "cell_type": "code",
   "execution_count": 154,
   "id": "192d31e6",
   "metadata": {},
   "outputs": [
    {
     "data": {
      "image/png": "[encoded data removed]",
      "text/plain": [
       "<Figure size 900x900 with 30 Axes>"
      ]
     },
     "metadata": {
      "needs_background": "light"
     },
     "output_type": "display_data"
    }
   ],
   "source": [
    "sns.pairplot(data=bike_df,vars=['temp','atemp','hum','windspeed','cnt'])\n",
    "plt.show()"
   ]
  },
  {
   "cell_type": "markdown",
   "id": "1a27b2b8",
   "metadata": {},
   "source": [
    "Checking the correlation"
   ]
  },
  {
   "cell_type": "code",
   "execution_count": 155,
   "id": "6a6ca8e0",
   "metadata": {},
   "outputs": [
    {
     "data": {
      "image/png": "[encoded data removed]",
      "text/plain": [
       "<Figure size 432x432 with 2 Axes>"
      ]
     },
     "metadata": {
      "needs_background": "light"
     },
     "output_type": "display_data"
    }
   ],
   "source": [
    "plt.figure(figsize = (6,6))\n",
    "matrix = np.triu(bike_df[['temp','atemp','hum','windspeed','cnt']].corr())\n",
    "sns.heatmap(bike_df[['temp','atemp','hum','windspeed','cnt']].corr(), annot = True, cmap=\"RdYlGn\", mask=matrix)\n",
    "plt.title(\"Correlation between Numerical Variables\")\n",
    "plt.show()"
   ]
  },
  {
   "cell_type": "markdown",
   "id": "ebc3481e",
   "metadata": {},
   "source": [
    "- There is linear relationship between temp and atemp.\n",
    "- We can decide features of consider based on VIF and p-value."
   ]
  },
  {
   "cell_type": "markdown",
   "id": "da6d159d",
   "metadata": {},
   "source": [
    "### Data Preparation"
   ]
  },
  {
   "cell_type": "markdown",
   "id": "d601b697",
   "metadata": {},
   "source": [
    "#### dropping the unwanted columns\n",
    "- instant has only index for the row,\n",
    "- dteday has date which can be compensated by year and month column,\n",
    "- casual and registered seems to be the breakup by category for cnt column."
   ]
  },
  {
   "cell_type": "code",
   "execution_count": 156,
   "id": "0ef898ad",
   "metadata": {},
   "outputs": [],
   "source": [
    "bike_df.drop(['instant','dteday','casual','registered'],axis=1,inplace=True)"
   ]
  },
  {
   "cell_type": "markdown",
   "id": "3f5621b1",
   "metadata": {},
   "source": [
    "- create mapping for the season column"
   ]
  },
  {
   "cell_type": "code",
   "execution_count": 157,
   "id": "2cb2efd9",
   "metadata": {},
   "outputs": [],
   "source": [
    "bike_df.season = bike_df.season.map({1:'spring', 2:'summer', 3:'fall', 4:'winter'})"
   ]
  },
  {
   "cell_type": "markdown",
   "id": "bbc0b60a",
   "metadata": {},
   "source": [
    "- create mapping for the month column"
   ]
  },
  {
   "cell_type": "code",
   "execution_count": 158,
   "id": "becbfa2d",
   "metadata": {},
   "outputs": [],
   "source": [
    "bike_df.mnth = bike_df.mnth.map({1:'jan',2:'feb',3:'mar',4:'apr',5:'may',6:'june',7:'july',8:'aug',9:'sep',10:'oct',11:'nov',12:'dec'})"
   ]
  },
  {
   "cell_type": "markdown",
   "id": "bd30ccf0",
   "metadata": {},
   "source": [
    "- create mapping for the weekday column"
   ]
  },
  {
   "cell_type": "code",
   "execution_count": 159,
   "id": "bcc70065",
   "metadata": {},
   "outputs": [],
   "source": [
    "bike_df.weekday = bike_df.weekday.map({0:'sun',1:'mon',2:'tue',3:'wed',4:'thu',5:'fri',6:'sat'})"
   ]
  },
  {
   "cell_type": "markdown",
   "id": "549df725",
   "metadata": {},
   "source": [
    "- create mapping for the weathersit column"
   ]
  },
  {
   "cell_type": "code",
   "execution_count": 160,
   "id": "ea4acad0",
   "metadata": {},
   "outputs": [],
   "source": [
    "bike_df.weathersit = bike_df.weathersit.map({1:'Clear',2:'Misty',3:'Light_snowrain',4:'Heavy_snowrain'})"
   ]
  },
  {
   "cell_type": "code",
   "execution_count": 161,
   "id": "8088fc3a",
   "metadata": {},
   "outputs": [
    {
     "data": {
      "text/html": [
       "<div>\n",
       "<style scoped>\n",
       "    .dataframe tbody tr th:only-of-type {\n",
       "        vertical-align: middle;\n",
       "    }\n",
       "\n",
       "    .dataframe tbody tr th {\n",
       "        vertical-align: top;\n",
       "    }\n",
       "\n",
       "    .dataframe thead th {\n",
       "        text-align: right;\n",
       "    }\n",
       "</style>\n",
       "<table border=\"1\" class=\"dataframe\">\n",
       "  <thead>\n",
       "    <tr style=\"text-align: right;\">\n",
       "      <th></th>\n",
       "      <th>season</th>\n",
       "      <th>yr</th>\n",
       "      <th>mnth</th>\n",
       "      <th>holiday</th>\n",
       "      <th>weekday</th>\n",
       "      <th>workingday</th>\n",
       "      <th>weathersit</th>\n",
       "      <th>temp</th>\n",
       "      <th>atemp</th>\n",
       "      <th>hum</th>\n",
       "      <th>windspeed</th>\n",
       "      <th>cnt</th>\n",
       "    </tr>\n",
       "  </thead>\n",
       "  <tbody>\n",
       "    <tr>\n",
       "      <th>0</th>\n",
       "      <td>spring</td>\n",
       "      <td>0</td>\n",
       "      <td>jan</td>\n",
       "      <td>0</td>\n",
       "      <td>sat</td>\n",
       "      <td>0</td>\n",
       "      <td>Misty</td>\n",
       "      <td>14.110847</td>\n",
       "      <td>18.18125</td>\n",
       "      <td>80.5833</td>\n",
       "      <td>10.749882</td>\n",
       "      <td>985</td>\n",
       "    </tr>\n",
       "    <tr>\n",
       "      <th>1</th>\n",
       "      <td>spring</td>\n",
       "      <td>0</td>\n",
       "      <td>jan</td>\n",
       "      <td>0</td>\n",
       "      <td>sun</td>\n",
       "      <td>0</td>\n",
       "      <td>Misty</td>\n",
       "      <td>14.902598</td>\n",
       "      <td>17.68695</td>\n",
       "      <td>69.6087</td>\n",
       "      <td>16.652113</td>\n",
       "      <td>801</td>\n",
       "    </tr>\n",
       "    <tr>\n",
       "      <th>2</th>\n",
       "      <td>spring</td>\n",
       "      <td>0</td>\n",
       "      <td>jan</td>\n",
       "      <td>0</td>\n",
       "      <td>mon</td>\n",
       "      <td>1</td>\n",
       "      <td>Clear</td>\n",
       "      <td>8.050924</td>\n",
       "      <td>9.47025</td>\n",
       "      <td>43.7273</td>\n",
       "      <td>16.636703</td>\n",
       "      <td>1349</td>\n",
       "    </tr>\n",
       "    <tr>\n",
       "      <th>3</th>\n",
       "      <td>spring</td>\n",
       "      <td>0</td>\n",
       "      <td>jan</td>\n",
       "      <td>0</td>\n",
       "      <td>tue</td>\n",
       "      <td>1</td>\n",
       "      <td>Clear</td>\n",
       "      <td>8.200000</td>\n",
       "      <td>10.60610</td>\n",
       "      <td>59.0435</td>\n",
       "      <td>10.739832</td>\n",
       "      <td>1562</td>\n",
       "    </tr>\n",
       "    <tr>\n",
       "      <th>4</th>\n",
       "      <td>spring</td>\n",
       "      <td>0</td>\n",
       "      <td>jan</td>\n",
       "      <td>0</td>\n",
       "      <td>wed</td>\n",
       "      <td>1</td>\n",
       "      <td>Clear</td>\n",
       "      <td>9.305237</td>\n",
       "      <td>11.46350</td>\n",
       "      <td>43.6957</td>\n",
       "      <td>12.522300</td>\n",
       "      <td>1600</td>\n",
       "    </tr>\n",
       "  </tbody>\n",
       "</table>\n",
       "</div>"
      ],
      "text/plain": [
       "   season  yr mnth  holiday weekday  workingday weathersit       temp  \\\n",
       "0  spring   0  jan        0     sat           0      Misty  14.110847   \n",
       "1  spring   0  jan        0     sun           0      Misty  14.902598   \n",
       "2  spring   0  jan        0     mon           1      Clear   8.050924   \n",
       "3  spring   0  jan        0     tue           1      Clear   8.200000   \n",
       "4  spring   0  jan        0     wed           1      Clear   9.305237   \n",
       "\n",
       "      atemp      hum  windspeed   cnt  \n",
       "0  18.18125  80.5833  10.749882   985  \n",
       "1  17.68695  69.6087  16.652113   801  \n",
       "2   9.47025  43.7273  16.636703  1349  \n",
       "3  10.60610  59.0435  10.739832  1562  \n",
       "4  11.46350  43.6957  12.522300  1600  "
      ]
     },
     "execution_count": 161,
     "metadata": {},
     "output_type": "execute_result"
    }
   ],
   "source": [
    "bike_df.head()"
   ]
  },
  {
   "cell_type": "markdown",
   "id": "db474ee3",
   "metadata": {},
   "source": [
    "### Dummy Variables"
   ]
  },
  {
   "cell_type": "markdown",
   "id": "808632c8",
   "metadata": {},
   "source": [
    "The variables `season`,`month`,`workingday`and `weathersit` have different levels. We need to convert these levels into integer as well. For this, we will use `dummy variables`."
   ]
  },
  {
   "cell_type": "code",
   "execution_count": 162,
   "id": "220e8630",
   "metadata": {},
   "outputs": [],
   "source": [
    "\n",
    "months_df=pd.get_dummies(bike_df.mnth,drop_first=True)\n",
    "weekdays_df=pd.get_dummies(bike_df.weekday,drop_first=True)\n",
    "weathersit_df=pd.get_dummies(bike_df.weathersit,drop_first=True)\n",
    "seasons_df=pd.get_dummies(bike_df.season,drop_first=True)"
   ]
  },
  {
   "cell_type": "code",
   "execution_count": 163,
   "id": "0bdd86de",
   "metadata": {},
   "outputs": [],
   "source": [
    "bike_new_df = pd.concat([bike_df,months_df,weekdays_df,weathersit_df,seasons_df],axis=1)"
   ]
  },
  {
   "cell_type": "code",
   "execution_count": 164,
   "id": "a4ba7d17",
   "metadata": {},
   "outputs": [
    {
     "data": {
      "text/html": [
       "<div>\n",
       "<style scoped>\n",
       "    .dataframe tbody tr th:only-of-type {\n",
       "        vertical-align: middle;\n",
       "    }\n",
       "\n",
       "    .dataframe tbody tr th {\n",
       "        vertical-align: top;\n",
       "    }\n",
       "\n",
       "    .dataframe thead th {\n",
       "        text-align: right;\n",
       "    }\n",
       "</style>\n",
       "<table border=\"1\" class=\"dataframe\">\n",
       "  <thead>\n",
       "    <tr style=\"text-align: right;\">\n",
       "      <th></th>\n",
       "      <th>season</th>\n",
       "      <th>yr</th>\n",
       "      <th>mnth</th>\n",
       "      <th>holiday</th>\n",
       "      <th>weekday</th>\n",
       "      <th>workingday</th>\n",
       "      <th>weathersit</th>\n",
       "      <th>temp</th>\n",
       "      <th>atemp</th>\n",
       "      <th>hum</th>\n",
       "      <th>...</th>\n",
       "      <th>sat</th>\n",
       "      <th>sun</th>\n",
       "      <th>thu</th>\n",
       "      <th>tue</th>\n",
       "      <th>wed</th>\n",
       "      <th>Light_snowrain</th>\n",
       "      <th>Misty</th>\n",
       "      <th>spring</th>\n",
       "      <th>summer</th>\n",
       "      <th>winter</th>\n",
       "    </tr>\n",
       "  </thead>\n",
       "  <tbody>\n",
       "    <tr>\n",
       "      <th>0</th>\n",
       "      <td>spring</td>\n",
       "      <td>0</td>\n",
       "      <td>jan</td>\n",
       "      <td>0</td>\n",
       "      <td>sat</td>\n",
       "      <td>0</td>\n",
       "      <td>Misty</td>\n",
       "      <td>14.110847</td>\n",
       "      <td>18.18125</td>\n",
       "      <td>80.5833</td>\n",
       "      <td>...</td>\n",
       "      <td>1</td>\n",
       "      <td>0</td>\n",
       "      <td>0</td>\n",
       "      <td>0</td>\n",
       "      <td>0</td>\n",
       "      <td>0</td>\n",
       "      <td>1</td>\n",
       "      <td>1</td>\n",
       "      <td>0</td>\n",
       "      <td>0</td>\n",
       "    </tr>\n",
       "    <tr>\n",
       "      <th>1</th>\n",
       "      <td>spring</td>\n",
       "      <td>0</td>\n",
       "      <td>jan</td>\n",
       "      <td>0</td>\n",
       "      <td>sun</td>\n",
       "      <td>0</td>\n",
       "      <td>Misty</td>\n",
       "      <td>14.902598</td>\n",
       "      <td>17.68695</td>\n",
       "      <td>69.6087</td>\n",
       "      <td>...</td>\n",
       "      <td>0</td>\n",
       "      <td>1</td>\n",
       "      <td>0</td>\n",
       "      <td>0</td>\n",
       "      <td>0</td>\n",
       "      <td>0</td>\n",
       "      <td>1</td>\n",
       "      <td>1</td>\n",
       "      <td>0</td>\n",
       "      <td>0</td>\n",
       "    </tr>\n",
       "    <tr>\n",
       "      <th>2</th>\n",
       "      <td>spring</td>\n",
       "      <td>0</td>\n",
       "      <td>jan</td>\n",
       "      <td>0</td>\n",
       "      <td>mon</td>\n",
       "      <td>1</td>\n",
       "      <td>Clear</td>\n",
       "      <td>8.050924</td>\n",
       "      <td>9.47025</td>\n",
       "      <td>43.7273</td>\n",
       "      <td>...</td>\n",
       "      <td>0</td>\n",
       "      <td>0</td>\n",
       "      <td>0</td>\n",
       "      <td>0</td>\n",
       "      <td>0</td>\n",
       "      <td>0</td>\n",
       "      <td>0</td>\n",
       "      <td>1</td>\n",
       "      <td>0</td>\n",
       "      <td>0</td>\n",
       "    </tr>\n",
       "    <tr>\n",
       "      <th>3</th>\n",
       "      <td>spring</td>\n",
       "      <td>0</td>\n",
       "      <td>jan</td>\n",
       "      <td>0</td>\n",
       "      <td>tue</td>\n",
       "      <td>1</td>\n",
       "      <td>Clear</td>\n",
       "      <td>8.200000</td>\n",
       "      <td>10.60610</td>\n",
       "      <td>59.0435</td>\n",
       "      <td>...</td>\n",
       "      <td>0</td>\n",
       "      <td>0</td>\n",
       "      <td>0</td>\n",
       "      <td>1</td>\n",
       "      <td>0</td>\n",
       "      <td>0</td>\n",
       "      <td>0</td>\n",
       "      <td>1</td>\n",
       "      <td>0</td>\n",
       "      <td>0</td>\n",
       "    </tr>\n",
       "    <tr>\n",
       "      <th>4</th>\n",
       "      <td>spring</td>\n",
       "      <td>0</td>\n",
       "      <td>jan</td>\n",
       "      <td>0</td>\n",
       "      <td>wed</td>\n",
       "      <td>1</td>\n",
       "      <td>Clear</td>\n",
       "      <td>9.305237</td>\n",
       "      <td>11.46350</td>\n",
       "      <td>43.6957</td>\n",
       "      <td>...</td>\n",
       "      <td>0</td>\n",
       "      <td>0</td>\n",
       "      <td>0</td>\n",
       "      <td>0</td>\n",
       "      <td>1</td>\n",
       "      <td>0</td>\n",
       "      <td>0</td>\n",
       "      <td>1</td>\n",
       "      <td>0</td>\n",
       "      <td>0</td>\n",
       "    </tr>\n",
       "  </tbody>\n",
       "</table>\n",
       "<p>5 rows × 34 columns</p>\n",
       "</div>"
      ],
      "text/plain": [
       "   season  yr mnth  holiday weekday  workingday weathersit       temp  \\\n",
       "0  spring   0  jan        0     sat           0      Misty  14.110847   \n",
       "1  spring   0  jan        0     sun           0      Misty  14.902598   \n",
       "2  spring   0  jan        0     mon           1      Clear   8.050924   \n",
       "3  spring   0  jan        0     tue           1      Clear   8.200000   \n",
       "4  spring   0  jan        0     wed           1      Clear   9.305237   \n",
       "\n",
       "      atemp      hum  ...  sat  sun  thu  tue  wed  Light_snowrain  Misty  \\\n",
       "0  18.18125  80.5833  ...    1    0    0    0    0               0      1   \n",
       "1  17.68695  69.6087  ...    0    1    0    0    0               0      1   \n",
       "2   9.47025  43.7273  ...    0    0    0    0    0               0      0   \n",
       "3  10.60610  59.0435  ...    0    0    0    1    0               0      0   \n",
       "4  11.46350  43.6957  ...    0    0    0    0    1               0      0   \n",
       "\n",
       "   spring  summer  winter  \n",
       "0       1       0       0  \n",
       "1       1       0       0  \n",
       "2       1       0       0  \n",
       "3       1       0       0  \n",
       "4       1       0       0  \n",
       "\n",
       "[5 rows x 34 columns]"
      ]
     },
     "execution_count": 164,
     "metadata": {},
     "output_type": "execute_result"
    }
   ],
   "source": [
    "bike_new_df.head()"
   ]
  },
  {
   "cell_type": "markdown",
   "id": "bd96d2ed",
   "metadata": {},
   "source": [
    "we can drop unnecessary columns as we have already created dummy variable out of it."
   ]
  },
  {
   "cell_type": "code",
   "execution_count": 165,
   "id": "ea9416c2",
   "metadata": {},
   "outputs": [],
   "source": [
    "bike_new_df.drop(['season','mnth','weekday','weathersit'], axis = 1, inplace = True)"
   ]
  },
  {
   "cell_type": "code",
   "execution_count": 166,
   "id": "176d199a",
   "metadata": {},
   "outputs": [
    {
     "data": {
      "text/html": [
       "<div>\n",
       "<style scoped>\n",
       "    .dataframe tbody tr th:only-of-type {\n",
       "        vertical-align: middle;\n",
       "    }\n",
       "\n",
       "    .dataframe tbody tr th {\n",
       "        vertical-align: top;\n",
       "    }\n",
       "\n",
       "    .dataframe thead th {\n",
       "        text-align: right;\n",
       "    }\n",
       "</style>\n",
       "<table border=\"1\" class=\"dataframe\">\n",
       "  <thead>\n",
       "    <tr style=\"text-align: right;\">\n",
       "      <th></th>\n",
       "      <th>yr</th>\n",
       "      <th>holiday</th>\n",
       "      <th>workingday</th>\n",
       "      <th>temp</th>\n",
       "      <th>atemp</th>\n",
       "      <th>hum</th>\n",
       "      <th>windspeed</th>\n",
       "      <th>cnt</th>\n",
       "      <th>aug</th>\n",
       "      <th>dec</th>\n",
       "      <th>...</th>\n",
       "      <th>sat</th>\n",
       "      <th>sun</th>\n",
       "      <th>thu</th>\n",
       "      <th>tue</th>\n",
       "      <th>wed</th>\n",
       "      <th>Light_snowrain</th>\n",
       "      <th>Misty</th>\n",
       "      <th>spring</th>\n",
       "      <th>summer</th>\n",
       "      <th>winter</th>\n",
       "    </tr>\n",
       "  </thead>\n",
       "  <tbody>\n",
       "    <tr>\n",
       "      <th>0</th>\n",
       "      <td>0</td>\n",
       "      <td>0</td>\n",
       "      <td>0</td>\n",
       "      <td>14.110847</td>\n",
       "      <td>18.18125</td>\n",
       "      <td>80.5833</td>\n",
       "      <td>10.749882</td>\n",
       "      <td>985</td>\n",
       "      <td>0</td>\n",
       "      <td>0</td>\n",
       "      <td>...</td>\n",
       "      <td>1</td>\n",
       "      <td>0</td>\n",
       "      <td>0</td>\n",
       "      <td>0</td>\n",
       "      <td>0</td>\n",
       "      <td>0</td>\n",
       "      <td>1</td>\n",
       "      <td>1</td>\n",
       "      <td>0</td>\n",
       "      <td>0</td>\n",
       "    </tr>\n",
       "    <tr>\n",
       "      <th>1</th>\n",
       "      <td>0</td>\n",
       "      <td>0</td>\n",
       "      <td>0</td>\n",
       "      <td>14.902598</td>\n",
       "      <td>17.68695</td>\n",
       "      <td>69.6087</td>\n",
       "      <td>16.652113</td>\n",
       "      <td>801</td>\n",
       "      <td>0</td>\n",
       "      <td>0</td>\n",
       "      <td>...</td>\n",
       "      <td>0</td>\n",
       "      <td>1</td>\n",
       "      <td>0</td>\n",
       "      <td>0</td>\n",
       "      <td>0</td>\n",
       "      <td>0</td>\n",
       "      <td>1</td>\n",
       "      <td>1</td>\n",
       "      <td>0</td>\n",
       "      <td>0</td>\n",
       "    </tr>\n",
       "    <tr>\n",
       "      <th>2</th>\n",
       "      <td>0</td>\n",
       "      <td>0</td>\n",
       "      <td>1</td>\n",
       "      <td>8.050924</td>\n",
       "      <td>9.47025</td>\n",
       "      <td>43.7273</td>\n",
       "      <td>16.636703</td>\n",
       "      <td>1349</td>\n",
       "      <td>0</td>\n",
       "      <td>0</td>\n",
       "      <td>...</td>\n",
       "      <td>0</td>\n",
       "      <td>0</td>\n",
       "      <td>0</td>\n",
       "      <td>0</td>\n",
       "      <td>0</td>\n",
       "      <td>0</td>\n",
       "      <td>0</td>\n",
       "      <td>1</td>\n",
       "      <td>0</td>\n",
       "      <td>0</td>\n",
       "    </tr>\n",
       "    <tr>\n",
       "      <th>3</th>\n",
       "      <td>0</td>\n",
       "      <td>0</td>\n",
       "      <td>1</td>\n",
       "      <td>8.200000</td>\n",
       "      <td>10.60610</td>\n",
       "      <td>59.0435</td>\n",
       "      <td>10.739832</td>\n",
       "      <td>1562</td>\n",
       "      <td>0</td>\n",
       "      <td>0</td>\n",
       "      <td>...</td>\n",
       "      <td>0</td>\n",
       "      <td>0</td>\n",
       "      <td>0</td>\n",
       "      <td>1</td>\n",
       "      <td>0</td>\n",
       "      <td>0</td>\n",
       "      <td>0</td>\n",
       "      <td>1</td>\n",
       "      <td>0</td>\n",
       "      <td>0</td>\n",
       "    </tr>\n",
       "    <tr>\n",
       "      <th>4</th>\n",
       "      <td>0</td>\n",
       "      <td>0</td>\n",
       "      <td>1</td>\n",
       "      <td>9.305237</td>\n",
       "      <td>11.46350</td>\n",
       "      <td>43.6957</td>\n",
       "      <td>12.522300</td>\n",
       "      <td>1600</td>\n",
       "      <td>0</td>\n",
       "      <td>0</td>\n",
       "      <td>...</td>\n",
       "      <td>0</td>\n",
       "      <td>0</td>\n",
       "      <td>0</td>\n",
       "      <td>0</td>\n",
       "      <td>1</td>\n",
       "      <td>0</td>\n",
       "      <td>0</td>\n",
       "      <td>1</td>\n",
       "      <td>0</td>\n",
       "      <td>0</td>\n",
       "    </tr>\n",
       "  </tbody>\n",
       "</table>\n",
       "<p>5 rows × 30 columns</p>\n",
       "</div>"
      ],
      "text/plain": [
       "   yr  holiday  workingday       temp     atemp      hum  windspeed   cnt  \\\n",
       "0   0        0           0  14.110847  18.18125  80.5833  10.749882   985   \n",
       "1   0        0           0  14.902598  17.68695  69.6087  16.652113   801   \n",
       "2   0        0           1   8.050924   9.47025  43.7273  16.636703  1349   \n",
       "3   0        0           1   8.200000  10.60610  59.0435  10.739832  1562   \n",
       "4   0        0           1   9.305237  11.46350  43.6957  12.522300  1600   \n",
       "\n",
       "   aug  dec  ...  sat  sun  thu  tue  wed  Light_snowrain  Misty  spring  \\\n",
       "0    0    0  ...    1    0    0    0    0               0      1       1   \n",
       "1    0    0  ...    0    1    0    0    0               0      1       1   \n",
       "2    0    0  ...    0    0    0    0    0               0      0       1   \n",
       "3    0    0  ...    0    0    0    1    0               0      0       1   \n",
       "4    0    0  ...    0    0    0    0    1               0      0       1   \n",
       "\n",
       "   summer  winter  \n",
       "0       0       0  \n",
       "1       0       0  \n",
       "2       0       0  \n",
       "3       0       0  \n",
       "4       0       0  \n",
       "\n",
       "[5 rows x 30 columns]"
      ]
     },
     "execution_count": 166,
     "metadata": {},
     "output_type": "execute_result"
    }
   ],
   "source": [
    "bike_new_df.head()"
   ]
  },
  {
   "cell_type": "code",
   "execution_count": 167,
   "id": "38b16eca",
   "metadata": {},
   "outputs": [
    {
     "data": {
      "text/plain": [
       "(730, 30)"
      ]
     },
     "execution_count": 167,
     "metadata": {},
     "output_type": "execute_result"
    }
   ],
   "source": [
    "bike_new_df.shape"
   ]
  },
  {
   "cell_type": "markdown",
   "id": "1c0e7bea",
   "metadata": {},
   "source": [
    "## Splitting the Data into Training and Testing Sets"
   ]
  },
  {
   "cell_type": "code",
   "execution_count": 168,
   "id": "523e4906",
   "metadata": {},
   "outputs": [],
   "source": [
    "np.random.seed(0)\n",
    "df_train, df_test = train_test_split(bike_new_df, train_size = 0.7, random_state = 100)"
   ]
  },
  {
   "cell_type": "code",
   "execution_count": 169,
   "id": "54c3bc75",
   "metadata": {},
   "outputs": [
    {
     "data": {
      "text/plain": [
       "(510, 30)"
      ]
     },
     "execution_count": 169,
     "metadata": {},
     "output_type": "execute_result"
    }
   ],
   "source": [
    "df_train.shape"
   ]
  },
  {
   "cell_type": "code",
   "execution_count": 170,
   "id": "556688d5",
   "metadata": {},
   "outputs": [
    {
     "data": {
      "text/plain": [
       "(220, 30)"
      ]
     },
     "execution_count": 170,
     "metadata": {},
     "output_type": "execute_result"
    }
   ],
   "source": [
    "df_test.shape"
   ]
  },
  {
   "cell_type": "markdown",
   "id": "cad84ca7",
   "metadata": {},
   "source": [
    "### Rescaling the Features \n",
    "\n",
    "We will use MinMax scaling."
   ]
  },
  {
   "cell_type": "code",
   "execution_count": 171,
   "id": "d19e41c2",
   "metadata": {},
   "outputs": [],
   "source": [
    "scaler = MinMaxScaler()"
   ]
  },
  {
   "cell_type": "markdown",
   "id": "081056ef",
   "metadata": {},
   "source": [
    "Check the train dataset before scaling"
   ]
  },
  {
   "cell_type": "code",
   "execution_count": 172,
   "id": "cb7298c3",
   "metadata": {},
   "outputs": [
    {
     "data": {
      "text/html": [
       "<div>\n",
       "<style scoped>\n",
       "    .dataframe tbody tr th:only-of-type {\n",
       "        vertical-align: middle;\n",
       "    }\n",
       "\n",
       "    .dataframe tbody tr th {\n",
       "        vertical-align: top;\n",
       "    }\n",
       "\n",
       "    .dataframe thead th {\n",
       "        text-align: right;\n",
       "    }\n",
       "</style>\n",
       "<table border=\"1\" class=\"dataframe\">\n",
       "  <thead>\n",
       "    <tr style=\"text-align: right;\">\n",
       "      <th></th>\n",
       "      <th>yr</th>\n",
       "      <th>holiday</th>\n",
       "      <th>workingday</th>\n",
       "      <th>temp</th>\n",
       "      <th>atemp</th>\n",
       "      <th>hum</th>\n",
       "      <th>windspeed</th>\n",
       "      <th>cnt</th>\n",
       "      <th>aug</th>\n",
       "      <th>dec</th>\n",
       "      <th>...</th>\n",
       "      <th>sat</th>\n",
       "      <th>sun</th>\n",
       "      <th>thu</th>\n",
       "      <th>tue</th>\n",
       "      <th>wed</th>\n",
       "      <th>Light_snowrain</th>\n",
       "      <th>Misty</th>\n",
       "      <th>spring</th>\n",
       "      <th>summer</th>\n",
       "      <th>winter</th>\n",
       "    </tr>\n",
       "  </thead>\n",
       "  <tbody>\n",
       "    <tr>\n",
       "      <th>576</th>\n",
       "      <td>1</td>\n",
       "      <td>0</td>\n",
       "      <td>1</td>\n",
       "      <td>29.246653</td>\n",
       "      <td>33.1448</td>\n",
       "      <td>70.4167</td>\n",
       "      <td>11.083475</td>\n",
       "      <td>7216</td>\n",
       "      <td>0</td>\n",
       "      <td>0</td>\n",
       "      <td>...</td>\n",
       "      <td>0</td>\n",
       "      <td>0</td>\n",
       "      <td>0</td>\n",
       "      <td>1</td>\n",
       "      <td>0</td>\n",
       "      <td>0</td>\n",
       "      <td>0</td>\n",
       "      <td>0</td>\n",
       "      <td>0</td>\n",
       "      <td>0</td>\n",
       "    </tr>\n",
       "    <tr>\n",
       "      <th>426</th>\n",
       "      <td>1</td>\n",
       "      <td>0</td>\n",
       "      <td>0</td>\n",
       "      <td>16.980847</td>\n",
       "      <td>20.6746</td>\n",
       "      <td>62.1250</td>\n",
       "      <td>10.792293</td>\n",
       "      <td>4066</td>\n",
       "      <td>0</td>\n",
       "      <td>0</td>\n",
       "      <td>...</td>\n",
       "      <td>1</td>\n",
       "      <td>0</td>\n",
       "      <td>0</td>\n",
       "      <td>0</td>\n",
       "      <td>0</td>\n",
       "      <td>0</td>\n",
       "      <td>1</td>\n",
       "      <td>1</td>\n",
       "      <td>0</td>\n",
       "      <td>0</td>\n",
       "    </tr>\n",
       "    <tr>\n",
       "      <th>728</th>\n",
       "      <td>1</td>\n",
       "      <td>0</td>\n",
       "      <td>0</td>\n",
       "      <td>10.489153</td>\n",
       "      <td>11.5850</td>\n",
       "      <td>48.3333</td>\n",
       "      <td>23.500518</td>\n",
       "      <td>1796</td>\n",
       "      <td>0</td>\n",
       "      <td>1</td>\n",
       "      <td>...</td>\n",
       "      <td>0</td>\n",
       "      <td>1</td>\n",
       "      <td>0</td>\n",
       "      <td>0</td>\n",
       "      <td>0</td>\n",
       "      <td>0</td>\n",
       "      <td>0</td>\n",
       "      <td>1</td>\n",
       "      <td>0</td>\n",
       "      <td>0</td>\n",
       "    </tr>\n",
       "    <tr>\n",
       "      <th>482</th>\n",
       "      <td>1</td>\n",
       "      <td>0</td>\n",
       "      <td>0</td>\n",
       "      <td>15.443347</td>\n",
       "      <td>18.8752</td>\n",
       "      <td>48.9583</td>\n",
       "      <td>8.708325</td>\n",
       "      <td>4220</td>\n",
       "      <td>0</td>\n",
       "      <td>0</td>\n",
       "      <td>...</td>\n",
       "      <td>1</td>\n",
       "      <td>0</td>\n",
       "      <td>0</td>\n",
       "      <td>0</td>\n",
       "      <td>0</td>\n",
       "      <td>0</td>\n",
       "      <td>1</td>\n",
       "      <td>0</td>\n",
       "      <td>1</td>\n",
       "      <td>0</td>\n",
       "    </tr>\n",
       "    <tr>\n",
       "      <th>111</th>\n",
       "      <td>0</td>\n",
       "      <td>0</td>\n",
       "      <td>1</td>\n",
       "      <td>13.803347</td>\n",
       "      <td>16.0977</td>\n",
       "      <td>72.9583</td>\n",
       "      <td>14.707907</td>\n",
       "      <td>1683</td>\n",
       "      <td>0</td>\n",
       "      <td>0</td>\n",
       "      <td>...</td>\n",
       "      <td>0</td>\n",
       "      <td>0</td>\n",
       "      <td>0</td>\n",
       "      <td>0</td>\n",
       "      <td>0</td>\n",
       "      <td>0</td>\n",
       "      <td>1</td>\n",
       "      <td>0</td>\n",
       "      <td>1</td>\n",
       "      <td>0</td>\n",
       "    </tr>\n",
       "  </tbody>\n",
       "</table>\n",
       "<p>5 rows × 30 columns</p>\n",
       "</div>"
      ],
      "text/plain": [
       "     yr  holiday  workingday       temp    atemp      hum  windspeed   cnt  \\\n",
       "576   1        0           1  29.246653  33.1448  70.4167  11.083475  7216   \n",
       "426   1        0           0  16.980847  20.6746  62.1250  10.792293  4066   \n",
       "728   1        0           0  10.489153  11.5850  48.3333  23.500518  1796   \n",
       "482   1        0           0  15.443347  18.8752  48.9583   8.708325  4220   \n",
       "111   0        0           1  13.803347  16.0977  72.9583  14.707907  1683   \n",
       "\n",
       "     aug  dec  ...  sat  sun  thu  tue  wed  Light_snowrain  Misty  spring  \\\n",
       "576    0    0  ...    0    0    0    1    0               0      0       0   \n",
       "426    0    0  ...    1    0    0    0    0               0      1       1   \n",
       "728    0    1  ...    0    1    0    0    0               0      0       1   \n",
       "482    0    0  ...    1    0    0    0    0               0      1       0   \n",
       "111    0    0  ...    0    0    0    0    0               0      1       0   \n",
       "\n",
       "     summer  winter  \n",
       "576       0       0  \n",
       "426       0       0  \n",
       "728       0       0  \n",
       "482       1       0  \n",
       "111       1       0  \n",
       "\n",
       "[5 rows x 30 columns]"
      ]
     },
     "execution_count": 172,
     "metadata": {},
     "output_type": "execute_result"
    }
   ],
   "source": [
    "df_train.head()"
   ]
  },
  {
   "cell_type": "markdown",
   "id": "63d8a94d",
   "metadata": {},
   "source": [
    "- Apply scaler() to all the columns except the 'yes-no' and 'dummy' variables"
   ]
  },
  {
   "cell_type": "code",
   "execution_count": 173,
   "id": "f796a57d",
   "metadata": {},
   "outputs": [],
   "source": [
    "num_vars = ['temp','atemp','hum','windspeed','cnt']\n",
    "df_train[num_vars] = scaler.fit_transform(df_train[num_vars])"
   ]
  },
  {
   "cell_type": "markdown",
   "id": "bb9a4e1f",
   "metadata": {},
   "source": [
    "Check the train dataset after scaling"
   ]
  },
  {
   "cell_type": "code",
   "execution_count": 174,
   "id": "36fcda51",
   "metadata": {},
   "outputs": [
    {
     "data": {
      "text/html": [
       "<div>\n",
       "<style scoped>\n",
       "    .dataframe tbody tr th:only-of-type {\n",
       "        vertical-align: middle;\n",
       "    }\n",
       "\n",
       "    .dataframe tbody tr th {\n",
       "        vertical-align: top;\n",
       "    }\n",
       "\n",
       "    .dataframe thead th {\n",
       "        text-align: right;\n",
       "    }\n",
       "</style>\n",
       "<table border=\"1\" class=\"dataframe\">\n",
       "  <thead>\n",
       "    <tr style=\"text-align: right;\">\n",
       "      <th></th>\n",
       "      <th>yr</th>\n",
       "      <th>holiday</th>\n",
       "      <th>workingday</th>\n",
       "      <th>temp</th>\n",
       "      <th>atemp</th>\n",
       "      <th>hum</th>\n",
       "      <th>windspeed</th>\n",
       "      <th>cnt</th>\n",
       "      <th>aug</th>\n",
       "      <th>dec</th>\n",
       "      <th>...</th>\n",
       "      <th>sat</th>\n",
       "      <th>sun</th>\n",
       "      <th>thu</th>\n",
       "      <th>tue</th>\n",
       "      <th>wed</th>\n",
       "      <th>Light_snowrain</th>\n",
       "      <th>Misty</th>\n",
       "      <th>spring</th>\n",
       "      <th>summer</th>\n",
       "      <th>winter</th>\n",
       "    </tr>\n",
       "  </thead>\n",
       "  <tbody>\n",
       "    <tr>\n",
       "      <th>576</th>\n",
       "      <td>1</td>\n",
       "      <td>0</td>\n",
       "      <td>1</td>\n",
       "      <td>0.815169</td>\n",
       "      <td>0.766351</td>\n",
       "      <td>0.725633</td>\n",
       "      <td>0.264686</td>\n",
       "      <td>0.827658</td>\n",
       "      <td>0</td>\n",
       "      <td>0</td>\n",
       "      <td>...</td>\n",
       "      <td>0</td>\n",
       "      <td>0</td>\n",
       "      <td>0</td>\n",
       "      <td>1</td>\n",
       "      <td>0</td>\n",
       "      <td>0</td>\n",
       "      <td>0</td>\n",
       "      <td>0</td>\n",
       "      <td>0</td>\n",
       "      <td>0</td>\n",
       "    </tr>\n",
       "    <tr>\n",
       "      <th>426</th>\n",
       "      <td>1</td>\n",
       "      <td>0</td>\n",
       "      <td>0</td>\n",
       "      <td>0.442393</td>\n",
       "      <td>0.438975</td>\n",
       "      <td>0.640189</td>\n",
       "      <td>0.255342</td>\n",
       "      <td>0.465255</td>\n",
       "      <td>0</td>\n",
       "      <td>0</td>\n",
       "      <td>...</td>\n",
       "      <td>1</td>\n",
       "      <td>0</td>\n",
       "      <td>0</td>\n",
       "      <td>0</td>\n",
       "      <td>0</td>\n",
       "      <td>0</td>\n",
       "      <td>1</td>\n",
       "      <td>1</td>\n",
       "      <td>0</td>\n",
       "      <td>0</td>\n",
       "    </tr>\n",
       "    <tr>\n",
       "      <th>728</th>\n",
       "      <td>1</td>\n",
       "      <td>0</td>\n",
       "      <td>0</td>\n",
       "      <td>0.245101</td>\n",
       "      <td>0.200348</td>\n",
       "      <td>0.498067</td>\n",
       "      <td>0.663106</td>\n",
       "      <td>0.204096</td>\n",
       "      <td>0</td>\n",
       "      <td>1</td>\n",
       "      <td>...</td>\n",
       "      <td>0</td>\n",
       "      <td>1</td>\n",
       "      <td>0</td>\n",
       "      <td>0</td>\n",
       "      <td>0</td>\n",
       "      <td>0</td>\n",
       "      <td>0</td>\n",
       "      <td>1</td>\n",
       "      <td>0</td>\n",
       "      <td>0</td>\n",
       "    </tr>\n",
       "    <tr>\n",
       "      <th>482</th>\n",
       "      <td>1</td>\n",
       "      <td>0</td>\n",
       "      <td>0</td>\n",
       "      <td>0.395666</td>\n",
       "      <td>0.391735</td>\n",
       "      <td>0.504508</td>\n",
       "      <td>0.188475</td>\n",
       "      <td>0.482973</td>\n",
       "      <td>0</td>\n",
       "      <td>0</td>\n",
       "      <td>...</td>\n",
       "      <td>1</td>\n",
       "      <td>0</td>\n",
       "      <td>0</td>\n",
       "      <td>0</td>\n",
       "      <td>0</td>\n",
       "      <td>0</td>\n",
       "      <td>1</td>\n",
       "      <td>0</td>\n",
       "      <td>1</td>\n",
       "      <td>0</td>\n",
       "    </tr>\n",
       "    <tr>\n",
       "      <th>111</th>\n",
       "      <td>0</td>\n",
       "      <td>0</td>\n",
       "      <td>1</td>\n",
       "      <td>0.345824</td>\n",
       "      <td>0.318819</td>\n",
       "      <td>0.751824</td>\n",
       "      <td>0.380981</td>\n",
       "      <td>0.191095</td>\n",
       "      <td>0</td>\n",
       "      <td>0</td>\n",
       "      <td>...</td>\n",
       "      <td>0</td>\n",
       "      <td>0</td>\n",
       "      <td>0</td>\n",
       "      <td>0</td>\n",
       "      <td>0</td>\n",
       "      <td>0</td>\n",
       "      <td>1</td>\n",
       "      <td>0</td>\n",
       "      <td>1</td>\n",
       "      <td>0</td>\n",
       "    </tr>\n",
       "  </tbody>\n",
       "</table>\n",
       "<p>5 rows × 30 columns</p>\n",
       "</div>"
      ],
      "text/plain": [
       "     yr  holiday  workingday      temp     atemp       hum  windspeed  \\\n",
       "576   1        0           1  0.815169  0.766351  0.725633   0.264686   \n",
       "426   1        0           0  0.442393  0.438975  0.640189   0.255342   \n",
       "728   1        0           0  0.245101  0.200348  0.498067   0.663106   \n",
       "482   1        0           0  0.395666  0.391735  0.504508   0.188475   \n",
       "111   0        0           1  0.345824  0.318819  0.751824   0.380981   \n",
       "\n",
       "          cnt  aug  dec  ...  sat  sun  thu  tue  wed  Light_snowrain  Misty  \\\n",
       "576  0.827658    0    0  ...    0    0    0    1    0               0      0   \n",
       "426  0.465255    0    0  ...    1    0    0    0    0               0      1   \n",
       "728  0.204096    0    1  ...    0    1    0    0    0               0      0   \n",
       "482  0.482973    0    0  ...    1    0    0    0    0               0      1   \n",
       "111  0.191095    0    0  ...    0    0    0    0    0               0      1   \n",
       "\n",
       "     spring  summer  winter  \n",
       "576       0       0       0  \n",
       "426       1       0       0  \n",
       "728       1       0       0  \n",
       "482       0       1       0  \n",
       "111       0       1       0  \n",
       "\n",
       "[5 rows x 30 columns]"
      ]
     },
     "execution_count": 174,
     "metadata": {},
     "output_type": "execute_result"
    }
   ],
   "source": [
    "df_train.head()"
   ]
  },
  {
   "cell_type": "markdown",
   "id": "3d38bf0d",
   "metadata": {},
   "source": [
    "check the correlation coefficients by plotting heatmap"
   ]
  },
  {
   "cell_type": "markdown",
   "id": "9d63e507",
   "metadata": {},
   "source": [
    "### Dividing into X and Y sets for the model building"
   ]
  },
  {
   "cell_type": "code",
   "execution_count": 175,
   "id": "d567600b",
   "metadata": {},
   "outputs": [],
   "source": [
    "y_train = df_train.pop('cnt')\n",
    "X_train = df_train"
   ]
  },
  {
   "cell_type": "markdown",
   "id": "c01f2e46",
   "metadata": {},
   "source": [
    "Identify the valid attributes using RFE"
   ]
  },
  {
   "cell_type": "code",
   "execution_count": 176,
   "id": "f4537df4",
   "metadata": {},
   "outputs": [],
   "source": [
    "lm = LinearRegression()\n",
    "lm.fit(X_train, y_train)\n",
    "\n",
    "rfe = RFE(lm, 15)\n",
    "rfe = rfe.fit(X_train, y_train)"
   ]
  },
  {
   "cell_type": "code",
   "execution_count": 177,
   "id": "90b5b26f",
   "metadata": {},
   "outputs": [
    {
     "data": {
      "text/plain": [
       "[('yr', True, 1),\n",
       " ('holiday', True, 1),\n",
       " ('workingday', True, 1),\n",
       " ('temp', True, 1),\n",
       " ('atemp', False, 5),\n",
       " ('hum', True, 1),\n",
       " ('windspeed', True, 1),\n",
       " ('aug', False, 7),\n",
       " ('dec', False, 3),\n",
       " ('feb', False, 4),\n",
       " ('jan', True, 1),\n",
       " ('july', True, 1),\n",
       " ('june', False, 14),\n",
       " ('mar', False, 15),\n",
       " ('may', False, 6),\n",
       " ('nov', False, 2),\n",
       " ('oct', False, 13),\n",
       " ('sep', True, 1),\n",
       " ('mon', False, 9),\n",
       " ('sat', True, 1),\n",
       " ('sun', False, 8),\n",
       " ('thu', False, 11),\n",
       " ('tue', False, 10),\n",
       " ('wed', False, 12),\n",
       " ('Light_snowrain', True, 1),\n",
       " ('Misty', True, 1),\n",
       " ('spring', True, 1),\n",
       " ('summer', True, 1),\n",
       " ('winter', True, 1)]"
      ]
     },
     "execution_count": 177,
     "metadata": {},
     "output_type": "execute_result"
    }
   ],
   "source": [
    "list(zip(X_train.columns,rfe.support_,rfe.ranking_))"
   ]
  },
  {
   "cell_type": "code",
   "execution_count": 178,
   "id": "5db3a630",
   "metadata": {},
   "outputs": [
    {
     "name": "stdout",
     "output_type": "stream",
     "text": [
      "Index(['yr', 'holiday', 'workingday', 'temp', 'hum', 'windspeed', 'jan',\n",
      "       'july', 'sep', 'sat', 'Light_snowrain', 'Misty', 'spring', 'summer',\n",
      "       'winter'],\n",
      "      dtype='object')\n"
     ]
    }
   ],
   "source": [
    "col = X_train.columns[rfe.support_]\n",
    "print(col)"
   ]
  },
  {
   "cell_type": "code",
   "execution_count": 179,
   "id": "7cb3fc88",
   "metadata": {},
   "outputs": [
    {
     "data": {
      "text/plain": [
       "Index(['atemp', 'aug', 'dec', 'feb', 'june', 'mar', 'may', 'nov', 'oct', 'mon',\n",
       "       'sun', 'thu', 'tue', 'wed'],\n",
       "      dtype='object')"
      ]
     },
     "execution_count": 179,
     "metadata": {},
     "output_type": "execute_result"
    }
   ],
   "source": [
    "X_train.columns[~rfe.support_]"
   ]
  },
  {
   "cell_type": "code",
   "execution_count": 180,
   "id": "a849e6d2",
   "metadata": {},
   "outputs": [],
   "source": [
    "# Generic function to calculate VIF of variables\n",
    "\n",
    "def calculateVIF(df):\n",
    "    vif = pd.DataFrame()\n",
    "    vif['Features'] = df.columns\n",
    "    vif['VIF'] = [variance_inflation_factor(df.values, i) for i in range(df.shape[1])]\n",
    "    vif['VIF'] = round(vif['VIF'], 2)\n",
    "    vif = vif.sort_values(by = \"VIF\", ascending = False)\n",
    "    return vif "
   ]
  },
  {
   "cell_type": "code",
   "execution_count": 181,
   "id": "e2adbcd8",
   "metadata": {},
   "outputs": [],
   "source": [
    "X_train_rfe = X_train[col]"
   ]
  },
  {
   "cell_type": "code",
   "execution_count": 182,
   "id": "4c424239",
   "metadata": {},
   "outputs": [
    {
     "data": {
      "text/html": [
       "<div>\n",
       "<style scoped>\n",
       "    .dataframe tbody tr th:only-of-type {\n",
       "        vertical-align: middle;\n",
       "    }\n",
       "\n",
       "    .dataframe tbody tr th {\n",
       "        vertical-align: top;\n",
       "    }\n",
       "\n",
       "    .dataframe thead th {\n",
       "        text-align: right;\n",
       "    }\n",
       "</style>\n",
       "<table border=\"1\" class=\"dataframe\">\n",
       "  <thead>\n",
       "    <tr style=\"text-align: right;\">\n",
       "      <th></th>\n",
       "      <th>Features</th>\n",
       "      <th>VIF</th>\n",
       "    </tr>\n",
       "  </thead>\n",
       "  <tbody>\n",
       "    <tr>\n",
       "      <th>4</th>\n",
       "      <td>hum</td>\n",
       "      <td>29.37</td>\n",
       "    </tr>\n",
       "    <tr>\n",
       "      <th>3</th>\n",
       "      <td>temp</td>\n",
       "      <td>17.78</td>\n",
       "    </tr>\n",
       "    <tr>\n",
       "      <th>2</th>\n",
       "      <td>workingday</td>\n",
       "      <td>5.31</td>\n",
       "    </tr>\n",
       "    <tr>\n",
       "      <th>5</th>\n",
       "      <td>windspeed</td>\n",
       "      <td>4.73</td>\n",
       "    </tr>\n",
       "    <tr>\n",
       "      <th>12</th>\n",
       "      <td>spring</td>\n",
       "      <td>4.53</td>\n",
       "    </tr>\n",
       "    <tr>\n",
       "      <th>14</th>\n",
       "      <td>winter</td>\n",
       "      <td>3.46</td>\n",
       "    </tr>\n",
       "    <tr>\n",
       "      <th>13</th>\n",
       "      <td>summer</td>\n",
       "      <td>2.85</td>\n",
       "    </tr>\n",
       "    <tr>\n",
       "      <th>11</th>\n",
       "      <td>Misty</td>\n",
       "      <td>2.29</td>\n",
       "    </tr>\n",
       "    <tr>\n",
       "      <th>0</th>\n",
       "      <td>yr</td>\n",
       "      <td>2.09</td>\n",
       "    </tr>\n",
       "    <tr>\n",
       "      <th>9</th>\n",
       "      <td>sat</td>\n",
       "      <td>1.98</td>\n",
       "    </tr>\n",
       "    <tr>\n",
       "      <th>6</th>\n",
       "      <td>jan</td>\n",
       "      <td>1.67</td>\n",
       "    </tr>\n",
       "    <tr>\n",
       "      <th>7</th>\n",
       "      <td>july</td>\n",
       "      <td>1.59</td>\n",
       "    </tr>\n",
       "    <tr>\n",
       "      <th>8</th>\n",
       "      <td>sep</td>\n",
       "      <td>1.39</td>\n",
       "    </tr>\n",
       "    <tr>\n",
       "      <th>10</th>\n",
       "      <td>Light_snowrain</td>\n",
       "      <td>1.24</td>\n",
       "    </tr>\n",
       "    <tr>\n",
       "      <th>1</th>\n",
       "      <td>holiday</td>\n",
       "      <td>1.18</td>\n",
       "    </tr>\n",
       "  </tbody>\n",
       "</table>\n",
       "</div>"
      ],
      "text/plain": [
       "          Features    VIF\n",
       "4              hum  29.37\n",
       "3             temp  17.78\n",
       "2       workingday   5.31\n",
       "5        windspeed   4.73\n",
       "12          spring   4.53\n",
       "14          winter   3.46\n",
       "13          summer   2.85\n",
       "11           Misty   2.29\n",
       "0               yr   2.09\n",
       "9              sat   1.98\n",
       "6              jan   1.67\n",
       "7             july   1.59\n",
       "8              sep   1.39\n",
       "10  Light_snowrain   1.24\n",
       "1          holiday   1.18"
      ]
     },
     "execution_count": 182,
     "metadata": {},
     "output_type": "execute_result"
    }
   ],
   "source": [
    "calculateVIF(X_train_rfe)"
   ]
  },
  {
   "cell_type": "markdown",
   "id": "d1eb9986",
   "metadata": {},
   "source": [
    "Humidity shows highest VIF Value"
   ]
  },
  {
   "cell_type": "markdown",
   "id": "1bb1f65c",
   "metadata": {},
   "source": [
    "### Building a linear model"
   ]
  },
  {
   "cell_type": "markdown",
   "id": "02b9ffac",
   "metadata": {},
   "source": [
    "Building first linear model"
   ]
  },
  {
   "cell_type": "code",
   "execution_count": 183,
   "id": "a297994c",
   "metadata": {},
   "outputs": [
    {
     "name": "stdout",
     "output_type": "stream",
     "text": [
      "                            OLS Regression Results                            \n",
      "==============================================================================\n",
      "Dep. Variable:                    cnt   R-squared:                       0.848\n",
      "Model:                            OLS   Adj. R-squared:                  0.844\n",
      "Method:                 Least Squares   F-statistic:                     184.0\n",
      "Date:                Wed, 10 Apr 2024   Prob (F-statistic):          4.22e-191\n",
      "Time:                        01:15:14   Log-Likelihood:                 519.65\n",
      "No. Observations:                 510   AIC:                            -1007.\n",
      "Df Residuals:                     494   BIC:                            -939.5\n",
      "Df Model:                          15                                         \n",
      "Covariance Type:            nonrobust                                         \n",
      "==================================================================================\n",
      "                     coef    std err          t      P>|t|      [0.025      0.975]\n",
      "----------------------------------------------------------------------------------\n",
      "const              0.2519      0.036      6.969      0.000       0.181       0.323\n",
      "yr                 0.2305      0.008     28.795      0.000       0.215       0.246\n",
      "holiday           -0.0582      0.027     -2.164      0.031      -0.111      -0.005\n",
      "workingday         0.0433      0.012      3.762      0.000       0.021       0.066\n",
      "temp               0.5096      0.034     14.837      0.000       0.442       0.577\n",
      "hum               -0.1563      0.037     -4.188      0.000      -0.230      -0.083\n",
      "windspeed         -0.1863      0.025     -7.310      0.000      -0.236      -0.136\n",
      "jan               -0.0345      0.017     -1.989      0.047      -0.069      -0.000\n",
      "july              -0.0529      0.018     -2.931      0.004      -0.088      -0.017\n",
      "sep                0.0814      0.016      4.945      0.000       0.049       0.114\n",
      "sat                0.0536      0.014      3.694      0.000       0.025       0.082\n",
      "Light_snowrain    -0.2475      0.026     -9.507      0.000      -0.299      -0.196\n",
      "Misty             -0.0563      0.010     -5.439      0.000      -0.077      -0.036\n",
      "spring            -0.0509      0.021     -2.464      0.014      -0.091      -0.010\n",
      "summer             0.0508      0.015      3.423      0.001       0.022       0.080\n",
      "winter             0.0933      0.017      5.403      0.000       0.059       0.127\n",
      "==============================================================================\n",
      "Omnibus:                       66.260   Durbin-Watson:                   2.080\n",
      "Prob(Omnibus):                  0.000   Jarque-Bera (JB):              159.826\n",
      "Skew:                          -0.678   Prob(JB):                     1.97e-35\n",
      "Kurtosis:                       5.383   Cond. No.                         22.1\n",
      "==============================================================================\n",
      "\n",
      "Notes:\n",
      "[1] Standard Errors assume that the covariance matrix of the errors is correctly specified.\n"
     ]
    }
   ],
   "source": [
    "X_train_lm_1 = sm.add_constant(X_train_rfe)\n",
    "lr_1 = sm.OLS(y_train,X_train_lm_1).fit()\n",
    "print(lr_1.summary())"
   ]
  },
  {
   "cell_type": "markdown",
   "id": "2b834a4a",
   "metadata": {},
   "source": [
    "As humidity shows high VIF values hence we can drop it"
   ]
  },
  {
   "cell_type": "code",
   "execution_count": 184,
   "id": "ccc6ef9f",
   "metadata": {},
   "outputs": [
    {
     "data": {
      "text/html": [
       "<div>\n",
       "<style scoped>\n",
       "    .dataframe tbody tr th:only-of-type {\n",
       "        vertical-align: middle;\n",
       "    }\n",
       "\n",
       "    .dataframe tbody tr th {\n",
       "        vertical-align: top;\n",
       "    }\n",
       "\n",
       "    .dataframe thead th {\n",
       "        text-align: right;\n",
       "    }\n",
       "</style>\n",
       "<table border=\"1\" class=\"dataframe\">\n",
       "  <thead>\n",
       "    <tr style=\"text-align: right;\">\n",
       "      <th></th>\n",
       "      <th>Features</th>\n",
       "      <th>VIF</th>\n",
       "    </tr>\n",
       "  </thead>\n",
       "  <tbody>\n",
       "    <tr>\n",
       "      <th>3</th>\n",
       "      <td>temp</td>\n",
       "      <td>7.07</td>\n",
       "    </tr>\n",
       "    <tr>\n",
       "      <th>2</th>\n",
       "      <td>workingday</td>\n",
       "      <td>5.24</td>\n",
       "    </tr>\n",
       "    <tr>\n",
       "      <th>4</th>\n",
       "      <td>windspeed</td>\n",
       "      <td>4.68</td>\n",
       "    </tr>\n",
       "    <tr>\n",
       "      <th>11</th>\n",
       "      <td>spring</td>\n",
       "      <td>3.07</td>\n",
       "    </tr>\n",
       "    <tr>\n",
       "      <th>12</th>\n",
       "      <td>summer</td>\n",
       "      <td>2.34</td>\n",
       "    </tr>\n",
       "    <tr>\n",
       "      <th>0</th>\n",
       "      <td>yr</td>\n",
       "      <td>2.08</td>\n",
       "    </tr>\n",
       "    <tr>\n",
       "      <th>13</th>\n",
       "      <td>winter</td>\n",
       "      <td>1.98</td>\n",
       "    </tr>\n",
       "    <tr>\n",
       "      <th>8</th>\n",
       "      <td>sat</td>\n",
       "      <td>1.97</td>\n",
       "    </tr>\n",
       "    <tr>\n",
       "      <th>5</th>\n",
       "      <td>jan</td>\n",
       "      <td>1.62</td>\n",
       "    </tr>\n",
       "    <tr>\n",
       "      <th>6</th>\n",
       "      <td>july</td>\n",
       "      <td>1.59</td>\n",
       "    </tr>\n",
       "    <tr>\n",
       "      <th>10</th>\n",
       "      <td>Misty</td>\n",
       "      <td>1.58</td>\n",
       "    </tr>\n",
       "    <tr>\n",
       "      <th>7</th>\n",
       "      <td>sep</td>\n",
       "      <td>1.35</td>\n",
       "    </tr>\n",
       "    <tr>\n",
       "      <th>1</th>\n",
       "      <td>holiday</td>\n",
       "      <td>1.17</td>\n",
       "    </tr>\n",
       "    <tr>\n",
       "      <th>9</th>\n",
       "      <td>Light_snowrain</td>\n",
       "      <td>1.09</td>\n",
       "    </tr>\n",
       "  </tbody>\n",
       "</table>\n",
       "</div>"
      ],
      "text/plain": [
       "          Features   VIF\n",
       "3             temp  7.07\n",
       "2       workingday  5.24\n",
       "4        windspeed  4.68\n",
       "11          spring  3.07\n",
       "12          summer  2.34\n",
       "0               yr  2.08\n",
       "13          winter  1.98\n",
       "8              sat  1.97\n",
       "5              jan  1.62\n",
       "6             july  1.59\n",
       "10           Misty  1.58\n",
       "7              sep  1.35\n",
       "1          holiday  1.17\n",
       "9   Light_snowrain  1.09"
      ]
     },
     "execution_count": 184,
     "metadata": {},
     "output_type": "execute_result"
    }
   ],
   "source": [
    "X_train_new = X_train_rfe.drop(['hum'], axis = 1)\n",
    "\n",
    "# Run the function to calculate VIF for the new model\n",
    "calculateVIF(X_train_new)"
   ]
  },
  {
   "cell_type": "markdown",
   "id": "342b6740",
   "metadata": {},
   "source": [
    "Building second linear regression model"
   ]
  },
  {
   "cell_type": "code",
   "execution_count": 185,
   "id": "9ad77f1c",
   "metadata": {},
   "outputs": [
    {
     "name": "stdout",
     "output_type": "stream",
     "text": [
      "                            OLS Regression Results                            \n",
      "==============================================================================\n",
      "Dep. Variable:                    cnt   R-squared:                       0.843\n",
      "Model:                            OLS   Adj. R-squared:                  0.838\n",
      "Method:                 Least Squares   F-statistic:                     189.6\n",
      "Date:                Wed, 10 Apr 2024   Prob (F-statistic):          1.60e-188\n",
      "Time:                        01:15:14   Log-Likelihood:                 510.75\n",
      "No. Observations:                 510   AIC:                            -991.5\n",
      "Df Residuals:                     495   BIC:                            -928.0\n",
      "Df Model:                          14                                         \n",
      "Covariance Type:            nonrobust                                         \n",
      "==================================================================================\n",
      "                     coef    std err          t      P>|t|      [0.025      0.975]\n",
      "----------------------------------------------------------------------------------\n",
      "const              0.1737      0.031      5.520      0.000       0.112       0.235\n",
      "yr                 0.2345      0.008     29.009      0.000       0.219       0.250\n",
      "holiday           -0.0558      0.027     -2.042      0.042      -0.109      -0.002\n",
      "workingday         0.0464      0.012      3.966      0.000       0.023       0.069\n",
      "temp               0.4722      0.034     14.005      0.000       0.406       0.538\n",
      "windspeed         -0.1563      0.025     -6.286      0.000      -0.205      -0.107\n",
      "jan               -0.0392      0.018     -2.227      0.026      -0.074      -0.005\n",
      "july              -0.0479      0.018     -2.614      0.009      -0.084      -0.012\n",
      "sep                0.0755      0.017      4.527      0.000       0.043       0.108\n",
      "sat                0.0583      0.015      3.968      0.000       0.029       0.087\n",
      "Light_snowrain    -0.2908      0.024    -11.977      0.000      -0.339      -0.243\n",
      "Misty             -0.0813      0.009     -9.437      0.000      -0.098      -0.064\n",
      "spring            -0.0599      0.021     -2.867      0.004      -0.101      -0.019\n",
      "summer             0.0445      0.015      2.967      0.003       0.015       0.074\n",
      "winter             0.0784      0.017      4.562      0.000       0.045       0.112\n",
      "==============================================================================\n",
      "Omnibus:                       67.830   Durbin-Watson:                   2.076\n",
      "Prob(Omnibus):                  0.000   Jarque-Bera (JB):              164.565\n",
      "Skew:                          -0.692   Prob(JB):                     1.84e-36\n",
      "Kurtosis:                       5.415   Cond. No.                         20.0\n",
      "==============================================================================\n",
      "\n",
      "Notes:\n",
      "[1] Standard Errors assume that the covariance matrix of the errors is correctly specified.\n"
     ]
    }
   ],
   "source": [
    "X_train_lm_2 = sm.add_constant(X_train_new)\n",
    "lr_2 = sm.OLS(y_train,X_train_lm_2).fit()\n",
    "print(lr_2.summary())"
   ]
  },
  {
   "cell_type": "markdown",
   "id": "2a85f82f",
   "metadata": {},
   "source": [
    " We can drop holiday variable as it has high p-value"
   ]
  },
  {
   "cell_type": "code",
   "execution_count": 186,
   "id": "921bfabd",
   "metadata": {},
   "outputs": [
    {
     "data": {
      "text/html": [
       "<div>\n",
       "<style scoped>\n",
       "    .dataframe tbody tr th:only-of-type {\n",
       "        vertical-align: middle;\n",
       "    }\n",
       "\n",
       "    .dataframe tbody tr th {\n",
       "        vertical-align: top;\n",
       "    }\n",
       "\n",
       "    .dataframe thead th {\n",
       "        text-align: right;\n",
       "    }\n",
       "</style>\n",
       "<table border=\"1\" class=\"dataframe\">\n",
       "  <thead>\n",
       "    <tr style=\"text-align: right;\">\n",
       "      <th></th>\n",
       "      <th>Features</th>\n",
       "      <th>VIF</th>\n",
       "    </tr>\n",
       "  </thead>\n",
       "  <tbody>\n",
       "    <tr>\n",
       "      <th>2</th>\n",
       "      <td>temp</td>\n",
       "      <td>6.82</td>\n",
       "    </tr>\n",
       "    <tr>\n",
       "      <th>1</th>\n",
       "      <td>workingday</td>\n",
       "      <td>4.68</td>\n",
       "    </tr>\n",
       "    <tr>\n",
       "      <th>3</th>\n",
       "      <td>windspeed</td>\n",
       "      <td>4.66</td>\n",
       "    </tr>\n",
       "    <tr>\n",
       "      <th>10</th>\n",
       "      <td>spring</td>\n",
       "      <td>2.99</td>\n",
       "    </tr>\n",
       "    <tr>\n",
       "      <th>11</th>\n",
       "      <td>summer</td>\n",
       "      <td>2.33</td>\n",
       "    </tr>\n",
       "    <tr>\n",
       "      <th>0</th>\n",
       "      <td>yr</td>\n",
       "      <td>2.08</td>\n",
       "    </tr>\n",
       "    <tr>\n",
       "      <th>12</th>\n",
       "      <td>winter</td>\n",
       "      <td>1.91</td>\n",
       "    </tr>\n",
       "    <tr>\n",
       "      <th>7</th>\n",
       "      <td>sat</td>\n",
       "      <td>1.84</td>\n",
       "    </tr>\n",
       "    <tr>\n",
       "      <th>4</th>\n",
       "      <td>jan</td>\n",
       "      <td>1.62</td>\n",
       "    </tr>\n",
       "    <tr>\n",
       "      <th>5</th>\n",
       "      <td>july</td>\n",
       "      <td>1.59</td>\n",
       "    </tr>\n",
       "    <tr>\n",
       "      <th>9</th>\n",
       "      <td>Misty</td>\n",
       "      <td>1.58</td>\n",
       "    </tr>\n",
       "    <tr>\n",
       "      <th>6</th>\n",
       "      <td>sep</td>\n",
       "      <td>1.34</td>\n",
       "    </tr>\n",
       "    <tr>\n",
       "      <th>8</th>\n",
       "      <td>Light_snowrain</td>\n",
       "      <td>1.09</td>\n",
       "    </tr>\n",
       "  </tbody>\n",
       "</table>\n",
       "</div>"
      ],
      "text/plain": [
       "          Features   VIF\n",
       "2             temp  6.82\n",
       "1       workingday  4.68\n",
       "3        windspeed  4.66\n",
       "10          spring  2.99\n",
       "11          summer  2.33\n",
       "0               yr  2.08\n",
       "12          winter  1.91\n",
       "7              sat  1.84\n",
       "4              jan  1.62\n",
       "5             july  1.59\n",
       "9            Misty  1.58\n",
       "6              sep  1.34\n",
       "8   Light_snowrain  1.09"
      ]
     },
     "execution_count": 186,
     "metadata": {},
     "output_type": "execute_result"
    }
   ],
   "source": [
    "X_train_new = X_train_new.drop(['holiday'], axis = 1)\n",
    "\n",
    "# Run the function to calculate VIF for the new model\n",
    "calculateVIF(X_train_new)"
   ]
  },
  {
   "cell_type": "markdown",
   "id": "951df7c0",
   "metadata": {},
   "source": [
    "Building third linear regression model"
   ]
  },
  {
   "cell_type": "code",
   "execution_count": 187,
   "id": "c1836f1c",
   "metadata": {},
   "outputs": [
    {
     "name": "stdout",
     "output_type": "stream",
     "text": [
      "                            OLS Regression Results                            \n",
      "==============================================================================\n",
      "Dep. Variable:                    cnt   R-squared:                       0.841\n",
      "Model:                            OLS   Adj. R-squared:                  0.837\n",
      "Method:                 Least Squares   F-statistic:                     202.6\n",
      "Date:                Wed, 10 Apr 2024   Prob (F-statistic):          8.68e-189\n",
      "Time:                        01:15:14   Log-Likelihood:                 508.61\n",
      "No. Observations:                 510   AIC:                            -989.2\n",
      "Df Residuals:                     496   BIC:                            -929.9\n",
      "Df Model:                          13                                         \n",
      "Covariance Type:            nonrobust                                         \n",
      "==================================================================================\n",
      "                     coef    std err          t      P>|t|      [0.025      0.975]\n",
      "----------------------------------------------------------------------------------\n",
      "const              0.1657      0.031      5.292      0.000       0.104       0.227\n",
      "yr                 0.2346      0.008     28.941      0.000       0.219       0.251\n",
      "workingday         0.0546      0.011      4.967      0.000       0.033       0.076\n",
      "temp               0.4724      0.034     13.966      0.000       0.406       0.539\n",
      "windspeed         -0.1572      0.025     -6.306      0.000      -0.206      -0.108\n",
      "jan               -0.0398      0.018     -2.252      0.025      -0.074      -0.005\n",
      "july              -0.0468      0.018     -2.549      0.011      -0.083      -0.011\n",
      "sep                0.0736      0.017      4.406      0.000       0.041       0.106\n",
      "sat                0.0667      0.014      4.710      0.000       0.039       0.094\n",
      "Light_snowrain    -0.2896      0.024    -11.895      0.000      -0.337      -0.242\n",
      "Misty             -0.0807      0.009     -9.351      0.000      -0.098      -0.064\n",
      "spring            -0.0607      0.021     -2.899      0.004      -0.102      -0.020\n",
      "summer             0.0448      0.015      2.980      0.003       0.015       0.074\n",
      "winter             0.0775      0.017      4.499      0.000       0.044       0.111\n",
      "==============================================================================\n",
      "Omnibus:                       73.767   Durbin-Watson:                   2.057\n",
      "Prob(Omnibus):                  0.000   Jarque-Bera (JB):              187.147\n",
      "Skew:                          -0.734   Prob(JB):                     2.30e-41\n",
      "Kurtosis:                       5.579   Cond. No.                         20.0\n",
      "==============================================================================\n",
      "\n",
      "Notes:\n",
      "[1] Standard Errors assume that the covariance matrix of the errors is correctly specified.\n"
     ]
    }
   ],
   "source": [
    "X_train_lm_3 = sm.add_constant(X_train_new)\n",
    "lr_3 = sm.OLS(y_train,X_train_lm_3).fit()\n",
    "print(lr_3.summary())"
   ]
  },
  {
   "cell_type": "markdown",
   "id": "d1254629",
   "metadata": {},
   "source": [
    " We can drop temp variable as it has high VIF"
   ]
  },
  {
   "cell_type": "code",
   "execution_count": 188,
   "id": "5b01c7ef",
   "metadata": {},
   "outputs": [
    {
     "data": {
      "text/html": [
       "<div>\n",
       "<style scoped>\n",
       "    .dataframe tbody tr th:only-of-type {\n",
       "        vertical-align: middle;\n",
       "    }\n",
       "\n",
       "    .dataframe tbody tr th {\n",
       "        vertical-align: top;\n",
       "    }\n",
       "\n",
       "    .dataframe thead th {\n",
       "        text-align: right;\n",
       "    }\n",
       "</style>\n",
       "<table border=\"1\" class=\"dataframe\">\n",
       "  <thead>\n",
       "    <tr style=\"text-align: right;\">\n",
       "      <th></th>\n",
       "      <th>yr</th>\n",
       "      <th>workingday</th>\n",
       "      <th>windspeed</th>\n",
       "      <th>jan</th>\n",
       "      <th>july</th>\n",
       "      <th>sep</th>\n",
       "      <th>sat</th>\n",
       "      <th>Light_snowrain</th>\n",
       "      <th>Misty</th>\n",
       "      <th>spring</th>\n",
       "      <th>summer</th>\n",
       "      <th>winter</th>\n",
       "    </tr>\n",
       "  </thead>\n",
       "  <tbody>\n",
       "    <tr>\n",
       "      <th>576</th>\n",
       "      <td>1</td>\n",
       "      <td>1</td>\n",
       "      <td>0.264686</td>\n",
       "      <td>0</td>\n",
       "      <td>1</td>\n",
       "      <td>0</td>\n",
       "      <td>0</td>\n",
       "      <td>0</td>\n",
       "      <td>0</td>\n",
       "      <td>0</td>\n",
       "      <td>0</td>\n",
       "      <td>0</td>\n",
       "    </tr>\n",
       "    <tr>\n",
       "      <th>426</th>\n",
       "      <td>1</td>\n",
       "      <td>0</td>\n",
       "      <td>0.255342</td>\n",
       "      <td>0</td>\n",
       "      <td>0</td>\n",
       "      <td>0</td>\n",
       "      <td>1</td>\n",
       "      <td>0</td>\n",
       "      <td>1</td>\n",
       "      <td>1</td>\n",
       "      <td>0</td>\n",
       "      <td>0</td>\n",
       "    </tr>\n",
       "    <tr>\n",
       "      <th>728</th>\n",
       "      <td>1</td>\n",
       "      <td>0</td>\n",
       "      <td>0.663106</td>\n",
       "      <td>0</td>\n",
       "      <td>0</td>\n",
       "      <td>0</td>\n",
       "      <td>0</td>\n",
       "      <td>0</td>\n",
       "      <td>0</td>\n",
       "      <td>1</td>\n",
       "      <td>0</td>\n",
       "      <td>0</td>\n",
       "    </tr>\n",
       "    <tr>\n",
       "      <th>482</th>\n",
       "      <td>1</td>\n",
       "      <td>0</td>\n",
       "      <td>0.188475</td>\n",
       "      <td>0</td>\n",
       "      <td>0</td>\n",
       "      <td>0</td>\n",
       "      <td>1</td>\n",
       "      <td>0</td>\n",
       "      <td>1</td>\n",
       "      <td>0</td>\n",
       "      <td>1</td>\n",
       "      <td>0</td>\n",
       "    </tr>\n",
       "    <tr>\n",
       "      <th>111</th>\n",
       "      <td>0</td>\n",
       "      <td>1</td>\n",
       "      <td>0.380981</td>\n",
       "      <td>0</td>\n",
       "      <td>0</td>\n",
       "      <td>0</td>\n",
       "      <td>0</td>\n",
       "      <td>0</td>\n",
       "      <td>1</td>\n",
       "      <td>0</td>\n",
       "      <td>1</td>\n",
       "      <td>0</td>\n",
       "    </tr>\n",
       "    <tr>\n",
       "      <th>...</th>\n",
       "      <td>...</td>\n",
       "      <td>...</td>\n",
       "      <td>...</td>\n",
       "      <td>...</td>\n",
       "      <td>...</td>\n",
       "      <td>...</td>\n",
       "      <td>...</td>\n",
       "      <td>...</td>\n",
       "      <td>...</td>\n",
       "      <td>...</td>\n",
       "      <td>...</td>\n",
       "      <td>...</td>\n",
       "    </tr>\n",
       "    <tr>\n",
       "      <th>578</th>\n",
       "      <td>1</td>\n",
       "      <td>1</td>\n",
       "      <td>0.187140</td>\n",
       "      <td>0</td>\n",
       "      <td>0</td>\n",
       "      <td>0</td>\n",
       "      <td>0</td>\n",
       "      <td>0</td>\n",
       "      <td>0</td>\n",
       "      <td>0</td>\n",
       "      <td>0</td>\n",
       "      <td>0</td>\n",
       "    </tr>\n",
       "    <tr>\n",
       "      <th>53</th>\n",
       "      <td>0</td>\n",
       "      <td>1</td>\n",
       "      <td>0.111379</td>\n",
       "      <td>0</td>\n",
       "      <td>0</td>\n",
       "      <td>0</td>\n",
       "      <td>0</td>\n",
       "      <td>0</td>\n",
       "      <td>0</td>\n",
       "      <td>1</td>\n",
       "      <td>0</td>\n",
       "      <td>0</td>\n",
       "    </tr>\n",
       "    <tr>\n",
       "      <th>350</th>\n",
       "      <td>0</td>\n",
       "      <td>0</td>\n",
       "      <td>0.431816</td>\n",
       "      <td>0</td>\n",
       "      <td>0</td>\n",
       "      <td>0</td>\n",
       "      <td>1</td>\n",
       "      <td>0</td>\n",
       "      <td>1</td>\n",
       "      <td>0</td>\n",
       "      <td>0</td>\n",
       "      <td>1</td>\n",
       "    </tr>\n",
       "    <tr>\n",
       "      <th>79</th>\n",
       "      <td>0</td>\n",
       "      <td>1</td>\n",
       "      <td>0.529881</td>\n",
       "      <td>0</td>\n",
       "      <td>0</td>\n",
       "      <td>0</td>\n",
       "      <td>0</td>\n",
       "      <td>0</td>\n",
       "      <td>1</td>\n",
       "      <td>0</td>\n",
       "      <td>1</td>\n",
       "      <td>0</td>\n",
       "    </tr>\n",
       "    <tr>\n",
       "      <th>520</th>\n",
       "      <td>1</td>\n",
       "      <td>1</td>\n",
       "      <td>0.359599</td>\n",
       "      <td>0</td>\n",
       "      <td>0</td>\n",
       "      <td>0</td>\n",
       "      <td>0</td>\n",
       "      <td>0</td>\n",
       "      <td>1</td>\n",
       "      <td>0</td>\n",
       "      <td>1</td>\n",
       "      <td>0</td>\n",
       "    </tr>\n",
       "  </tbody>\n",
       "</table>\n",
       "<p>510 rows × 12 columns</p>\n",
       "</div>"
      ],
      "text/plain": [
       "     yr  workingday  windspeed  jan  july  sep  sat  Light_snowrain  Misty  \\\n",
       "576   1           1   0.264686    0     1    0    0               0      0   \n",
       "426   1           0   0.255342    0     0    0    1               0      1   \n",
       "728   1           0   0.663106    0     0    0    0               0      0   \n",
       "482   1           0   0.188475    0     0    0    1               0      1   \n",
       "111   0           1   0.380981    0     0    0    0               0      1   \n",
       "..   ..         ...        ...  ...   ...  ...  ...             ...    ...   \n",
       "578   1           1   0.187140    0     0    0    0               0      0   \n",
       "53    0           1   0.111379    0     0    0    0               0      0   \n",
       "350   0           0   0.431816    0     0    0    1               0      1   \n",
       "79    0           1   0.529881    0     0    0    0               0      1   \n",
       "520   1           1   0.359599    0     0    0    0               0      1   \n",
       "\n",
       "     spring  summer  winter  \n",
       "576       0       0       0  \n",
       "426       1       0       0  \n",
       "728       1       0       0  \n",
       "482       0       1       0  \n",
       "111       0       1       0  \n",
       "..      ...     ...     ...  \n",
       "578       0       0       0  \n",
       "53        1       0       0  \n",
       "350       0       0       1  \n",
       "79        0       1       0  \n",
       "520       0       1       0  \n",
       "\n",
       "[510 rows x 12 columns]"
      ]
     },
     "execution_count": 188,
     "metadata": {},
     "output_type": "execute_result"
    }
   ],
   "source": [
    "X_train_new = X_train_new.drop(['temp'], axis = 1)\n",
    "\n",
    "# Run the function to calculate VIF for the new model\n",
    "(X_train_new)"
   ]
  },
  {
   "cell_type": "code",
   "execution_count": 189,
   "id": "a022afc3",
   "metadata": {},
   "outputs": [
    {
     "name": "stdout",
     "output_type": "stream",
     "text": [
      "                            OLS Regression Results                            \n",
      "==============================================================================\n",
      "Dep. Variable:                    cnt   R-squared:                       0.779\n",
      "Model:                            OLS   Adj. R-squared:                  0.774\n",
      "Method:                 Least Squares   F-statistic:                     146.1\n",
      "Date:                Wed, 10 Apr 2024   Prob (F-statistic):          2.41e-154\n",
      "Time:                        01:15:14   Log-Likelihood:                 424.05\n",
      "No. Observations:                 510   AIC:                            -822.1\n",
      "Df Residuals:                     497   BIC:                            -767.0\n",
      "Df Model:                          12                                         \n",
      "Covariance Type:            nonrobust                                         \n",
      "==================================================================================\n",
      "                     coef    std err          t      P>|t|      [0.025      0.975]\n",
      "----------------------------------------------------------------------------------\n",
      "const              0.5364      0.020     27.369      0.000       0.498       0.575\n",
      "yr                 0.2480      0.009     26.120      0.000       0.229       0.267\n",
      "workingday         0.0562      0.013      4.335      0.000       0.031       0.082\n",
      "windspeed         -0.1888      0.029     -6.448      0.000      -0.246      -0.131\n",
      "jan               -0.1032      0.020     -5.132      0.000      -0.143      -0.064\n",
      "july              -0.0084      0.021     -0.394      0.693      -0.051       0.034\n",
      "sep                0.0691      0.020      3.510      0.000       0.030       0.108\n",
      "sat                0.0648      0.017      3.880      0.000       0.032       0.098\n",
      "Light_snowrain    -0.3022      0.029    -10.533      0.000      -0.359      -0.246\n",
      "Misty             -0.0876      0.010     -8.622      0.000      -0.108      -0.068\n",
      "spring            -0.2611      0.018    -14.509      0.000      -0.296      -0.226\n",
      "summer            -0.0424      0.016     -2.627      0.009      -0.074      -0.011\n",
      "winter            -0.0771      0.016     -4.955      0.000      -0.108      -0.047\n",
      "==============================================================================\n",
      "Omnibus:                       39.321   Durbin-Watson:                   2.016\n",
      "Prob(Omnibus):                  0.000   Jarque-Bera (JB):               79.897\n",
      "Skew:                          -0.456   Prob(JB):                     4.47e-18\n",
      "Kurtosis:                       4.711   Cond. No.                         10.7\n",
      "==============================================================================\n",
      "\n",
      "Notes:\n",
      "[1] Standard Errors assume that the covariance matrix of the errors is correctly specified.\n"
     ]
    }
   ],
   "source": [
    "X_train_lm_4 = sm.add_constant(X_train_new)\n",
    "lr_4 = sm.OLS(y_train,X_train_lm_4).fit()\n",
    "print(lr_4.summary())"
   ]
  },
  {
   "cell_type": "markdown",
   "id": "febeb6d1",
   "metadata": {},
   "source": [
    "We can drop july variable as it has high p-value"
   ]
  },
  {
   "cell_type": "code",
   "execution_count": 190,
   "id": "deabd68a",
   "metadata": {},
   "outputs": [
    {
     "data": {
      "text/html": [
       "<div>\n",
       "<style scoped>\n",
       "    .dataframe tbody tr th:only-of-type {\n",
       "        vertical-align: middle;\n",
       "    }\n",
       "\n",
       "    .dataframe tbody tr th {\n",
       "        vertical-align: top;\n",
       "    }\n",
       "\n",
       "    .dataframe thead th {\n",
       "        text-align: right;\n",
       "    }\n",
       "</style>\n",
       "<table border=\"1\" class=\"dataframe\">\n",
       "  <thead>\n",
       "    <tr style=\"text-align: right;\">\n",
       "      <th></th>\n",
       "      <th>yr</th>\n",
       "      <th>workingday</th>\n",
       "      <th>windspeed</th>\n",
       "      <th>jan</th>\n",
       "      <th>sep</th>\n",
       "      <th>sat</th>\n",
       "      <th>Light_snowrain</th>\n",
       "      <th>Misty</th>\n",
       "      <th>spring</th>\n",
       "      <th>summer</th>\n",
       "      <th>winter</th>\n",
       "    </tr>\n",
       "  </thead>\n",
       "  <tbody>\n",
       "    <tr>\n",
       "      <th>576</th>\n",
       "      <td>1</td>\n",
       "      <td>1</td>\n",
       "      <td>0.264686</td>\n",
       "      <td>0</td>\n",
       "      <td>0</td>\n",
       "      <td>0</td>\n",
       "      <td>0</td>\n",
       "      <td>0</td>\n",
       "      <td>0</td>\n",
       "      <td>0</td>\n",
       "      <td>0</td>\n",
       "    </tr>\n",
       "    <tr>\n",
       "      <th>426</th>\n",
       "      <td>1</td>\n",
       "      <td>0</td>\n",
       "      <td>0.255342</td>\n",
       "      <td>0</td>\n",
       "      <td>0</td>\n",
       "      <td>1</td>\n",
       "      <td>0</td>\n",
       "      <td>1</td>\n",
       "      <td>1</td>\n",
       "      <td>0</td>\n",
       "      <td>0</td>\n",
       "    </tr>\n",
       "    <tr>\n",
       "      <th>728</th>\n",
       "      <td>1</td>\n",
       "      <td>0</td>\n",
       "      <td>0.663106</td>\n",
       "      <td>0</td>\n",
       "      <td>0</td>\n",
       "      <td>0</td>\n",
       "      <td>0</td>\n",
       "      <td>0</td>\n",
       "      <td>1</td>\n",
       "      <td>0</td>\n",
       "      <td>0</td>\n",
       "    </tr>\n",
       "    <tr>\n",
       "      <th>482</th>\n",
       "      <td>1</td>\n",
       "      <td>0</td>\n",
       "      <td>0.188475</td>\n",
       "      <td>0</td>\n",
       "      <td>0</td>\n",
       "      <td>1</td>\n",
       "      <td>0</td>\n",
       "      <td>1</td>\n",
       "      <td>0</td>\n",
       "      <td>1</td>\n",
       "      <td>0</td>\n",
       "    </tr>\n",
       "    <tr>\n",
       "      <th>111</th>\n",
       "      <td>0</td>\n",
       "      <td>1</td>\n",
       "      <td>0.380981</td>\n",
       "      <td>0</td>\n",
       "      <td>0</td>\n",
       "      <td>0</td>\n",
       "      <td>0</td>\n",
       "      <td>1</td>\n",
       "      <td>0</td>\n",
       "      <td>1</td>\n",
       "      <td>0</td>\n",
       "    </tr>\n",
       "    <tr>\n",
       "      <th>...</th>\n",
       "      <td>...</td>\n",
       "      <td>...</td>\n",
       "      <td>...</td>\n",
       "      <td>...</td>\n",
       "      <td>...</td>\n",
       "      <td>...</td>\n",
       "      <td>...</td>\n",
       "      <td>...</td>\n",
       "      <td>...</td>\n",
       "      <td>...</td>\n",
       "      <td>...</td>\n",
       "    </tr>\n",
       "    <tr>\n",
       "      <th>578</th>\n",
       "      <td>1</td>\n",
       "      <td>1</td>\n",
       "      <td>0.187140</td>\n",
       "      <td>0</td>\n",
       "      <td>0</td>\n",
       "      <td>0</td>\n",
       "      <td>0</td>\n",
       "      <td>0</td>\n",
       "      <td>0</td>\n",
       "      <td>0</td>\n",
       "      <td>0</td>\n",
       "    </tr>\n",
       "    <tr>\n",
       "      <th>53</th>\n",
       "      <td>0</td>\n",
       "      <td>1</td>\n",
       "      <td>0.111379</td>\n",
       "      <td>0</td>\n",
       "      <td>0</td>\n",
       "      <td>0</td>\n",
       "      <td>0</td>\n",
       "      <td>0</td>\n",
       "      <td>1</td>\n",
       "      <td>0</td>\n",
       "      <td>0</td>\n",
       "    </tr>\n",
       "    <tr>\n",
       "      <th>350</th>\n",
       "      <td>0</td>\n",
       "      <td>0</td>\n",
       "      <td>0.431816</td>\n",
       "      <td>0</td>\n",
       "      <td>0</td>\n",
       "      <td>1</td>\n",
       "      <td>0</td>\n",
       "      <td>1</td>\n",
       "      <td>0</td>\n",
       "      <td>0</td>\n",
       "      <td>1</td>\n",
       "    </tr>\n",
       "    <tr>\n",
       "      <th>79</th>\n",
       "      <td>0</td>\n",
       "      <td>1</td>\n",
       "      <td>0.529881</td>\n",
       "      <td>0</td>\n",
       "      <td>0</td>\n",
       "      <td>0</td>\n",
       "      <td>0</td>\n",
       "      <td>1</td>\n",
       "      <td>0</td>\n",
       "      <td>1</td>\n",
       "      <td>0</td>\n",
       "    </tr>\n",
       "    <tr>\n",
       "      <th>520</th>\n",
       "      <td>1</td>\n",
       "      <td>1</td>\n",
       "      <td>0.359599</td>\n",
       "      <td>0</td>\n",
       "      <td>0</td>\n",
       "      <td>0</td>\n",
       "      <td>0</td>\n",
       "      <td>1</td>\n",
       "      <td>0</td>\n",
       "      <td>1</td>\n",
       "      <td>0</td>\n",
       "    </tr>\n",
       "  </tbody>\n",
       "</table>\n",
       "<p>510 rows × 11 columns</p>\n",
       "</div>"
      ],
      "text/plain": [
       "     yr  workingday  windspeed  jan  sep  sat  Light_snowrain  Misty  spring  \\\n",
       "576   1           1   0.264686    0    0    0               0      0       0   \n",
       "426   1           0   0.255342    0    0    1               0      1       1   \n",
       "728   1           0   0.663106    0    0    0               0      0       1   \n",
       "482   1           0   0.188475    0    0    1               0      1       0   \n",
       "111   0           1   0.380981    0    0    0               0      1       0   \n",
       "..   ..         ...        ...  ...  ...  ...             ...    ...     ...   \n",
       "578   1           1   0.187140    0    0    0               0      0       0   \n",
       "53    0           1   0.111379    0    0    0               0      0       1   \n",
       "350   0           0   0.431816    0    0    1               0      1       0   \n",
       "79    0           1   0.529881    0    0    0               0      1       0   \n",
       "520   1           1   0.359599    0    0    0               0      1       0   \n",
       "\n",
       "     summer  winter  \n",
       "576       0       0  \n",
       "426       0       0  \n",
       "728       0       0  \n",
       "482       1       0  \n",
       "111       1       0  \n",
       "..      ...     ...  \n",
       "578       0       0  \n",
       "53        0       0  \n",
       "350       0       1  \n",
       "79        1       0  \n",
       "520       1       0  \n",
       "\n",
       "[510 rows x 11 columns]"
      ]
     },
     "execution_count": 190,
     "metadata": {},
     "output_type": "execute_result"
    }
   ],
   "source": [
    "X_train_new = X_train_new.drop(['july'], axis = 1)\n",
    "\n",
    "# Run the function to calculate VIF for the new model\n",
    "(X_train_new)"
   ]
  },
  {
   "cell_type": "code",
   "execution_count": 191,
   "id": "54a28902",
   "metadata": {},
   "outputs": [
    {
     "name": "stdout",
     "output_type": "stream",
     "text": [
      "                            OLS Regression Results                            \n",
      "==============================================================================\n",
      "Dep. Variable:                    cnt   R-squared:                       0.779\n",
      "Model:                            OLS   Adj. R-squared:                  0.774\n",
      "Method:                 Least Squares   F-statistic:                     159.7\n",
      "Date:                Wed, 10 Apr 2024   Prob (F-statistic):          2.01e-155\n",
      "Time:                        01:15:14   Log-Likelihood:                 423.97\n",
      "No. Observations:                 510   AIC:                            -823.9\n",
      "Df Residuals:                     498   BIC:                            -773.1\n",
      "Df Model:                          11                                         \n",
      "Covariance Type:            nonrobust                                         \n",
      "==================================================================================\n",
      "                     coef    std err          t      P>|t|      [0.025      0.975]\n",
      "----------------------------------------------------------------------------------\n",
      "const              0.5332      0.018     30.023      0.000       0.498       0.568\n",
      "yr                 0.2480      0.009     26.146      0.000       0.229       0.267\n",
      "workingday         0.0564      0.013      4.353      0.000       0.031       0.082\n",
      "windspeed         -0.1887      0.029     -6.450      0.000      -0.246      -0.131\n",
      "jan               -0.1033      0.020     -5.138      0.000      -0.143      -0.064\n",
      "sep                0.0715      0.019      3.815      0.000       0.035       0.108\n",
      "sat                0.0648      0.017      3.887      0.000       0.032       0.098\n",
      "Light_snowrain    -0.3023      0.029    -10.546      0.000      -0.359      -0.246\n",
      "Misty             -0.0874      0.010     -8.623      0.000      -0.107      -0.067\n",
      "spring            -0.2581      0.016    -15.860      0.000      -0.290      -0.226\n",
      "summer            -0.0394      0.014     -2.768      0.006      -0.067      -0.011\n",
      "winter            -0.0743      0.014     -5.392      0.000      -0.101      -0.047\n",
      "==============================================================================\n",
      "Omnibus:                       39.401   Durbin-Watson:                   2.019\n",
      "Prob(Omnibus):                  0.000   Jarque-Bera (JB):               79.660\n",
      "Skew:                          -0.459   Prob(JB):                     5.04e-18\n",
      "Kurtosis:                       4.705   Cond. No.                         10.1\n",
      "==============================================================================\n",
      "\n",
      "Notes:\n",
      "[1] Standard Errors assume that the covariance matrix of the errors is correctly specified.\n"
     ]
    }
   ],
   "source": [
    "X_train_lm_5 = sm.add_constant(X_train_new)\n",
    "lr_5 = sm.OLS(y_train,X_train_lm_5).fit()\n",
    "print(lr_5.summary())"
   ]
  },
  {
   "cell_type": "code",
   "execution_count": 192,
   "id": "6974c126",
   "metadata": {},
   "outputs": [
    {
     "data": {
      "text/plain": [
       "const             0.533171\n",
       "yr                0.248004\n",
       "workingday        0.056374\n",
       "windspeed        -0.188695\n",
       "jan              -0.103255\n",
       "sep               0.071471\n",
       "sat               0.064819\n",
       "Light_snowrain   -0.302344\n",
       "Misty            -0.087382\n",
       "spring           -0.258093\n",
       "summer           -0.039401\n",
       "winter           -0.074260\n",
       "dtype: float64"
      ]
     },
     "execution_count": 192,
     "metadata": {},
     "output_type": "execute_result"
    }
   ],
   "source": [
    "lr_5.params"
   ]
  },
  {
   "cell_type": "code",
   "execution_count": 193,
   "id": "f5ed39cc",
   "metadata": {},
   "outputs": [
    {
     "data": {
      "text/plain": [
       "Index(['yr', 'workingday', 'windspeed', 'jan', 'sep', 'sat', 'Light_snowrain',\n",
       "       'Misty', 'spring', 'summer', 'winter'],\n",
       "      dtype='object')"
      ]
     },
     "execution_count": 193,
     "metadata": {},
     "output_type": "execute_result"
    }
   ],
   "source": [
    "X_train_new.columns"
   ]
  },
  {
   "cell_type": "markdown",
   "id": "bd9684c4",
   "metadata": {},
   "source": [
    "### Residual Analysis of the train data\n",
    "\n",
    "So, now to check if the error terms are also normally distributed (which is infact, one of the major assumptions of linear regression), let us plot the histogram of the error terms and see what it looks like."
   ]
  },
  {
   "cell_type": "code",
   "execution_count": 194,
   "id": "5b38f73e",
   "metadata": {},
   "outputs": [],
   "source": [
    "y_train_pred = lr_5.predict(X_train_lm_5)"
   ]
  },
  {
   "cell_type": "markdown",
   "id": "b36195e3",
   "metadata": {},
   "source": [
    "Normality of error terms"
   ]
  },
  {
   "cell_type": "code",
   "execution_count": 195,
   "id": "9f9ce99a",
   "metadata": {},
   "outputs": [
    {
     "data": {
      "text/plain": [
       "Text(0.5, 0, 'Errors')"
      ]
     },
     "execution_count": 195,
     "metadata": {},
     "output_type": "execute_result"
    },
    {
     "data": {
      "image/png": "[encoded data removed]",
      "text/plain": [
       "<Figure size 432x288 with 1 Axes>"
      ]
     },
     "metadata": {
      "needs_background": "light"
     },
     "output_type": "display_data"
    }
   ],
   "source": [
    "fig = plt.figure()\n",
    "sns.distplot((y_train - y_train_pred), bins = 20)\n",
    "fig.suptitle('Error Terms', fontsize = 20) \n",
    "plt.xlabel('Errors', fontsize = 18)"
   ]
  },
  {
   "cell_type": "markdown",
   "id": "4b3458cf",
   "metadata": {},
   "source": [
    "### Predict and evaluate the test data"
   ]
  },
  {
   "cell_type": "markdown",
   "id": "ebef33a3",
   "metadata": {},
   "source": [
    "#### Applying the scaling on the test sets"
   ]
  },
  {
   "cell_type": "code",
   "execution_count": 196,
   "id": "e8518936",
   "metadata": {},
   "outputs": [],
   "source": [
    "num_vars = ['temp','atemp','hum','windspeed','cnt']\n",
    "df_test[num_vars] = scaler.transform(df_test[num_vars])"
   ]
  },
  {
   "cell_type": "markdown",
   "id": "940e1b31",
   "metadata": {},
   "source": [
    "#### dividing into X_test and y_test"
   ]
  },
  {
   "cell_type": "code",
   "execution_count": 197,
   "id": "7719aa48",
   "metadata": {},
   "outputs": [],
   "source": [
    "y_test = df_test.pop('cnt')\n",
    "X_test = df_test"
   ]
  },
  {
   "cell_type": "markdown",
   "id": "a2cec094",
   "metadata": {},
   "source": [
    "Creating X_test_new dataframe by dropping variables from X_test"
   ]
  },
  {
   "cell_type": "code",
   "execution_count": 198,
   "id": "88bca0e8",
   "metadata": {},
   "outputs": [],
   "source": [
    "X_test_new = X_test[X_train_new.columns]"
   ]
  },
  {
   "cell_type": "markdown",
   "id": "81eea397",
   "metadata": {},
   "source": [
    "Adding a constant variable "
   ]
  },
  {
   "cell_type": "code",
   "execution_count": 199,
   "id": "4af9a4a8",
   "metadata": {},
   "outputs": [],
   "source": [
    "X_test_new = sm.add_constant(X_test_new)"
   ]
  },
  {
   "cell_type": "markdown",
   "id": "bcd23336",
   "metadata": {},
   "source": [
    "Making predictions"
   ]
  },
  {
   "cell_type": "code",
   "execution_count": 200,
   "id": "d68691bd",
   "metadata": {},
   "outputs": [],
   "source": [
    "y_pred = lr_5.predict(X_test_new)"
   ]
  },
  {
   "cell_type": "markdown",
   "id": "c78eaeba",
   "metadata": {},
   "source": [
    "### Model Evaluation"
   ]
  },
  {
   "cell_type": "code",
   "execution_count": 201,
   "id": "8d650333",
   "metadata": {},
   "outputs": [
    {
     "data": {
      "text/plain": [
       "0.7417351441317017"
      ]
     },
     "execution_count": 201,
     "metadata": {},
     "output_type": "execute_result"
    }
   ],
   "source": [
    "r2 = r2_score(y_test,y_pred)\n",
    "r2"
   ]
  },
  {
   "cell_type": "markdown",
   "id": "f28386f7",
   "metadata": {},
   "source": [
    "Plotting y_test and y_pred to understand the spread"
   ]
  },
  {
   "cell_type": "code",
   "execution_count": 202,
   "id": "7774c29b",
   "metadata": {},
   "outputs": [
    {
     "data": {
      "text/plain": [
       "Text(0, 0.5, 'y_pred')"
      ]
     },
     "execution_count": 202,
     "metadata": {},
     "output_type": "execute_result"
    },
    {
     "data": {
      "image/png": "[encoded data removed]",
      "text/plain": [
       "<Figure size 432x288 with 1 Axes>"
      ]
     },
     "metadata": {
      "needs_background": "light"
     },
     "output_type": "display_data"
    }
   ],
   "source": [
    "fig = plt.figure()\n",
    "plt.scatter(y_test, y_pred)\n",
    "fig.suptitle('y_test vs y_pred', fontsize = 20) \n",
    "plt.xlabel('y_test', fontsize = 18)\n",
    "plt.ylabel('y_pred', fontsize = 16) "
   ]
  },
  {
   "cell_type": "code",
   "execution_count": 203,
   "id": "fad61ada",
   "metadata": {},
   "outputs": [
    {
     "name": "stdout",
     "output_type": "stream",
     "text": [
      "0.7023\n"
     ]
    }
   ],
   "source": [
    "adjusted_r2 = round(1-(1-r2)*(X_test.shape[0]-1)/(X_test.shape[0]-X_test.shape[1]-1),4)\n",
    "print(adjusted_r2)"
   ]
  },
  {
   "cell_type": "code",
   "execution_count": 204,
   "id": "3ce19767",
   "metadata": {},
   "outputs": [
    {
     "data": {
      "image/png": "[encoded data removed]",
      "text/plain": [
       "<Figure size 432x288 with 1 Axes>"
      ]
     },
     "metadata": {
      "needs_background": "light"
     },
     "output_type": "display_data"
    }
   ],
   "source": [
    "# Visualizing the fit on the test data\n",
    "# plotting a Regression plot\n",
    "\n",
    "plt.figure()\n",
    "sns.regplot(x=y_test, y=y_pred, ci=68, fit_reg=True,scatter_kws={\"color\": \"blue\"}, line_kws={\"color\": \"red\"})\n",
    "plt.title('y_test vs y_pred', fontsize=20)\n",
    "plt.xlabel('y_test', fontsize=18)\n",
    "plt.ylabel('y_pred', fontsize=16)\n",
    "plt.show()"
   ]
  },
  {
   "cell_type": "markdown",
   "id": "5aafba02",
   "metadata": {},
   "source": [
    "- R2 for train data - 0.78\n",
    "- adjusted R2 for train data - 0.77\n",
    "\n",
    "- R2 for test data - 0.74\n",
    "- adjusted R2 for test data - 0.70"
   ]
  },
  {
   "cell_type": "markdown",
   "id": "2966c6bb",
   "metadata": {},
   "source": [
    "The features to consider to predict the demand for the bikes are\n",
    "`year`, `workingday`, `windspeed`, `mnth`, `weathersit` and `season`"
   ]
  },
  {
   "cell_type": "code",
   "execution_count": null,
   "id": "15f71dcf",
   "metadata": {},
   "outputs": [],
   "source": []
  }
 ],
 "metadata": {
  "kernelspec": {
   "display_name": "Python 3 (ipykernel)",
   "language": "python",
   "name": "python3"
  },
  "language_info": {
   "codemirror_mode": {
    "name": "ipython",
    "version": 3
   },
   "file_extension": ".py",
   "mimetype": "text/x-python",
   "name": "python",
   "nbconvert_exporter": "python",
   "pygments_lexer": "ipython3",
   "version": "3.9.7"
  }
 },
 "nbformat": 4,
 "nbformat_minor": 5
}
